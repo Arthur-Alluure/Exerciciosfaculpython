{
  "nbformat": 4,
  "nbformat_minor": 0,
  "metadata": {
    "colab": {
      "provenance": [],
      "authorship_tag": "ABX9TyOK03DTWTRixCEccC6a1oA5",
      "include_colab_link": true
    },
    "kernelspec": {
      "name": "python3",
      "display_name": "Python 3"
    },
    "language_info": {
      "name": "python"
    }
  },
  "cells": [
    {
      "cell_type": "markdown",
      "metadata": {
        "id": "view-in-github",
        "colab_type": "text"
      },
      "source": [
        "<a href=\"https://colab.research.google.com/github/Arthur-Alluure/Exerciciosfaculpython/blob/Atualizada/Sorveteria.ipynb\" target=\"_parent\"><img src=\"https://colab.research.google.com/assets/colab-badge.svg\" alt=\"Open In Colab\"/></a>"
      ]
    },
    {
      "cell_type": "code",
      "execution_count": 2,
      "metadata": {
        "colab": {
          "base_uri": "https://localhost:8080/"
        },
        "id": "hzG0Wav6mZtm",
        "outputId": "38149db2-d5e0-454b-9534-1dc7d71bcf2c"
      },
      "outputs": [
        {
          "output_type": "stream",
          "name": "stdout",
          "text": [
            "\n",
            "Olá, Seja Bem-Vindo a Sorveteria do Arthur Rodrigues Moreira!\n",
            "\t\n",
            "------------------------------ CARDÁPIO --------------------------------------------\n",
            "| Nº DE BOLAS | Sabor Tradicional (tr) | Sabor Premium (pr) | Sabor especial (es)  |\n",
            "|      1      |      R$ 6,00           |     R$ 7,00        |     R$ 8,00          |\n",
            "|      2      |      R$ 11,00          |     R$ 13,00       |     R$ 15,00         |\n",
            "|      3      |      R$ 15,00          |     R$ 18,00       |     R$ 21,00         |\n",
            "------------------------------------------------------------------------------------\n",
            "Insira o sabor desejado (tr/pr/es): aa\n",
            "Sabor inválido, tente novamente!\n",
            "\n",
            "Insira o sabor desejado (tr/pr/es): tr\n",
            "Insira o número de bolas de sorvete desejado (1/2/3): aa\n",
            "Número de bolas de sorvete inválido, tente novamente!\n",
            "\n",
            "Insira o sabor desejado (tr/pr/es): tr\n",
            "Insira o número de bolas de sorvete desejado (1/2/3): 1\n",
            "Você pediu 1 bola(s) de sorvete no sabor Tradicional: R$ 6\n",
            "\n",
            "Deseja comprar mais sorvetes? \n",
            "Tecle [S] para continuar ou Digite outra tecla para sair do programa: s\n",
            "\n",
            "Insira o sabor desejado (tr/pr/es): pr\n",
            "Insira o número de bolas de sorvete desejado (1/2/3): 3\n",
            "Você pediu 3 bola(s) de sorvete no sabor Premium: R$ 18\n",
            "\n",
            "Deseja comprar mais sorvetes? \n",
            "Tecle [S] para continuar ou Digite outra tecla para sair do programa: s\n",
            "\n",
            "Insira o sabor desejado (tr/pr/es): es\n",
            "Insira o número de bolas de sorvete desejado (1/2/3): 2\n",
            "Você pediu 2 bola(s) de sorvete no sabor Especial: R$ 15\n",
            "\n",
            "Deseja comprar mais sorvetes? \n",
            "Tecle [S] para continuar ou Digite outra tecla para sair do programa: n\n",
            "------------------------------------------------------------------------------------\n",
            "Obrigado por comprar conosco!\n",
            "O valor total a ser pago foi de: 39R$\n"
          ]
        }
      ],
      "source": [
        "total = 0       #variavel \"total\" vai armazenar o total a ser pago no fim, começa com 0\n",
        "print('')\n",
        "print('Olá, Seja Bem-Vindo a Sorveteria do Arthur Rodrigues Moreira!\\n\\t')\n",
        "print('-'*30,'CARDÁPIO','-'*44)\n",
        "print('| Nº DE BOLAS','| Sabor Tradicional (tr)', '| Sabor Premium (pr)',  '| Sabor especial (es)  |')\n",
        "print('|      1     ','|      R$ 6,00          ', '|     R$ 7,00       ',  '|     R$ 8,00          |')\n",
        "print('|      2     ','|      R$ 11,00         ','|     R$ 13,00     ', ' |     R$ 15,00         |')\n",
        "print('|      3     ','|      R$ 15,00         ','|     R$ 18,00     ',' |     R$ 21,00         |')\n",
        "print('-'*84)\n",
        "\n",
        "while True: #inicio do loop\n",
        "    sabor = input('Insira o sabor desejado (tr/pr/es): ')        #solicita o sabor, caso o mesmo não cumpra as condições do if, o else retorna ('sabor inválido')\n",
        "\n",
        "    if (sabor=='tr') or (sabor=='pr') or (sabor=='es') :          #teste variavel sabor\n",
        "\n",
        "        numero = input('Insira o número de bolas de sorvete desejado (1/2/3): ')    #solicita o numero de bolas caso o teste da variavel seja verdadeiro\n",
        "\n",
        "        if (numero=='1') or (numero=='2') or (numero=='3') :     #teste variavel número, caso não cumpra as condições, o else retorna('numero de bolas invalido')\n",
        "\n",
        "            if(numero=='1') and (sabor=='tr') :      #começam os testes de comparação entre os números e sabores\n",
        "                sabor = 6\n",
        "                print('Você pediu {} bola(s) de sorvete no sabor Tradicional: R$ {}'.format(numero,sabor))\n",
        "            elif (numero=='1') and (sabor=='pr') :\n",
        "                sabor = 7\n",
        "                print('Você pediu {} bola(s) de sorvete no sabor Premium: R$ {}'.format(numero,sabor))\n",
        "            elif (numero=='1') and (sabor=='es') :\n",
        "                sabor = 8\n",
        "                print('Você pediu {} bola(s) de sorvete no sabor Especial: R$ {}'.format(numero,sabor))\n",
        "            elif (numero=='2') and (sabor=='tr') :\n",
        "                sabor = 11\n",
        "                print('Você pediu {} bola(s) de sorvete no sabor Tradicional: R$ {}'.format(numero,sabor))\n",
        "            elif (numero=='2') and (sabor=='pr') :\n",
        "                sabor = 13\n",
        "                print('Você pediu {} bola(s) de sorvete no sabor Premium: R$ {}'.format(numero,sabor))\n",
        "            elif (numero=='2') and (sabor=='es') :\n",
        "                sabor = 15\n",
        "                print('Você pediu {} bola(s) de sorvete no sabor Especial: R$ {}'.format(numero,sabor))\n",
        "            elif (numero=='3') and (sabor=='tr') :\n",
        "                sabor = 15\n",
        "                print('Você pediu {} bola(s) de sorvete no sabor Tradicional: R$ {}'.format(numero,sabor))\n",
        "            elif (numero=='3') and (sabor=='pr') :\n",
        "                sabor = 18\n",
        "                print('Você pediu {} bola(s) de sorvete no sabor Premium: R$ {}'.format(numero,sabor))\n",
        "            elif (numero=='3') and (sabor=='es') :\n",
        "                sabor = 21\n",
        "                print('Você pediu {} bola(s) de sorvete no sabor Especial: R$ {}'.format(numero,sabor))\n",
        "\n",
        "            total += sabor  #ao fim das escolhas a varivel total vai armazenar e somar os valores inseridos\n",
        "            print('')\n",
        "            print('Deseja comprar mais sorvetes? ')\n",
        "            resposta = input('Tecle [S] para continuar ou Digite outra tecla para sair do programa: ')    #variavel resposta solicitando a continuidade do programa ou não\n",
        "\n",
        "            if (resposta=='s') or (resposta=='S') : #teste da variavel resposta, utilizando o continue e o break\n",
        "                print('')\n",
        "                continue\n",
        "            else:\n",
        "                break\n",
        "        else:\n",
        "            print('Número de bolas de sorvete inválido, tente novamente!') #else referente ao número de bolas inválido\n",
        "            print('')\n",
        "    else:\n",
        "        print('Sabor inválido, tente novamente!')   #else referente ao sabor inválido\n",
        "        print('')\n",
        "print('-'*84)\n",
        "print('Obrigado por comprar conosco!')\n",
        "print('O valor total a ser pago foi de: {}R$'.format(total))"
      ]
    }
  ]
}