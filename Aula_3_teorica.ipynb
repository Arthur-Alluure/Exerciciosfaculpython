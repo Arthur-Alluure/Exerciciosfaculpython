{
  "nbformat": 4,
  "nbformat_minor": 0,
  "metadata": {
    "colab": {
      "provenance": [],
      "authorship_tag": "ABX9TyOmgY9sknrbc36DZeztQRC+",
      "include_colab_link": true
    },
    "kernelspec": {
      "name": "python3",
      "display_name": "Python 3"
    },
    "language_info": {
      "name": "python"
    }
  },
  "cells": [
    {
      "cell_type": "markdown",
      "metadata": {
        "id": "view-in-github",
        "colab_type": "text"
      },
      "source": [
        "<a href=\"https://colab.research.google.com/github/Arthur-Alluure/Exerciciosfaculpython/blob/Atualizada/Aula_3_teorica.ipynb\" target=\"_parent\"><img src=\"https://colab.research.google.com/assets/colab-badge.svg\" alt=\"Open In Colab\"/></a>"
      ]
    },
    {
      "cell_type": "markdown",
      "source": [
        "Exercícios apresentados na aula teorica\n"
      ],
      "metadata": {
        "id": "AuUHTfrz_a0Y"
      }
    },
    {
      "cell_type": "code",
      "source": [
        "numero1 = int(input('Digite um número: '))\n",
        "numero2 = int(input('Digite outro número: '))\n",
        "\n",
        "if (numero1>numero2) :\n",
        "  print('O primeiro valor digitado é maior do que o segundo')"
      ],
      "metadata": {
        "colab": {
          "base_uri": "https://localhost:8080/"
        },
        "id": "WGo8tizw_geQ",
        "outputId": "d25a38fc-aeb8-4a1b-8baf-def996ee1d11"
      },
      "execution_count": null,
      "outputs": [
        {
          "output_type": "stream",
          "name": "stdout",
          "text": [
            "Digite um número: 5\n",
            "Digite outro número: 1\n",
            "O primeiro valor digitado é maior do que o segundo\n"
          ]
        }
      ]
    },
    {
      "cell_type": "code",
      "source": [
        "numero1 = int(input('Digite um número: '))\n",
        "numero2 = int(input('Digite outro número: '))\n",
        "\n",
        "if (numero1>numero2) :\n",
        "  print('O primeiro valor digitado é maior do que o segundo')\n",
        "if (numero1<numero2) :\n",
        "  print('O segundo valor é maior que o primeiro')\n",
        "if (numero1==numero2) :\n",
        "  print('Os valores são iguais')"
      ],
      "metadata": {
        "colab": {
          "base_uri": "https://localhost:8080/"
        },
        "id": "P8wT6WPEBQY8",
        "outputId": "171ff2a0-c30e-4623-f479-f99696f609bc"
      },
      "execution_count": null,
      "outputs": [
        {
          "output_type": "stream",
          "name": "stdout",
          "text": [
            "Digite um número: 5\n",
            "Digite outro número: 5\n",
            "Os valores são iguais\n"
          ]
        }
      ]
    },
    {
      "cell_type": "code",
      "source": [
        "numero = int(input('Digite um número : '))\n",
        "\n",
        "if (numero%2 ==0) :\n",
        "  print('Número par')\n",
        "else:\n",
        "  print('Número impar')\n"
      ],
      "metadata": {
        "colab": {
          "base_uri": "https://localhost:8080/"
        },
        "id": "g4Tm3wHbDnv5",
        "outputId": "9b17fdb7-01a9-44dd-d6e8-5c5c91b18349"
      },
      "execution_count": null,
      "outputs": [
        {
          "output_type": "stream",
          "name": "stdout",
          "text": [
            "Digite um número : 4\n",
            "Número par\n"
          ]
        }
      ]
    },
    {
      "cell_type": "code",
      "source": [
        "numero = int(input('Digite um número : '))\n",
        "\n",
        "if (numero%2 ==0) :\n",
        "  print('Número par')\n",
        "else:\n",
        "  print('Número impar')\n",
        "if (numero%7 ==0) :\n",
        "  print('Multiplo de 7')\n",
        "else:\n",
        "  print('Não é Multiplo de 7')"
      ],
      "metadata": {
        "colab": {
          "base_uri": "https://localhost:8080/"
        },
        "id": "LuoY9MtdH4sr",
        "outputId": "2aa6529b-c8d3-4246-c594-7a8f12a898cc"
      },
      "execution_count": null,
      "outputs": [
        {
          "output_type": "stream",
          "name": "stdout",
          "text": [
            "Digite um número : 2\n",
            "Número par\n",
            "Não é Multiplo de 7\n"
          ]
        }
      ]
    },
    {
      "cell_type": "code",
      "source": [
        "nasc = int(input('Em que ano você nasceu: '))\n",
        "atual = int(input('Em que ano estamos: '))\n",
        "\n",
        "idade = atual-nasc\n",
        "print('Você tem {}anos'.format(idade))\n",
        "if (idade>=18) :\n",
        "  print('Já pode tirar a sua carteira de motorista!')\n",
        "else :\n",
        "  print('Ainda é de menor, portanto não pode tirar carteira!')"
      ],
      "metadata": {
        "colab": {
          "base_uri": "https://localhost:8080/"
        },
        "id": "dN-6YayQIfn5",
        "outputId": "8eddc115-2c2f-474a-cef7-9a2f70b5ac4e"
      },
      "execution_count": null,
      "outputs": [
        {
          "output_type": "stream",
          "name": "stdout",
          "text": [
            "Em que ano você nasceu: 2001\n",
            "Em que ano estamos: 2010\n",
            "Você tem 9anos\n",
            "Ainda é de menor, portanto não pode tirar carteira!\n"
          ]
        }
      ]
    },
    {
      "cell_type": "code",
      "source": [
        "anos = int(input('Quantos anos você tem de empresa: '))\n",
        "salario = float(input('Qual o seu salário: '))\n",
        "\n",
        "bonus1 = (salario*0.2) + salario\n",
        "bonus2 = (salario*0.1) + salario\n",
        "\n",
        "if (anos>5):\n",
        "  print('Parabéns, seu novo salário com a bonificação será de: {}R$'.format(bonus1))\n",
        "else :\n",
        "  print('Parabéns, seu novo salário com a bonificação será de: {}R$'.format(bonus2))"
      ],
      "metadata": {
        "colab": {
          "base_uri": "https://localhost:8080/"
        },
        "id": "Oez-vB_7KNjG",
        "outputId": "6987c7de-39f5-4976-9806-540ede7f1f53"
      },
      "execution_count": null,
      "outputs": [
        {
          "output_type": "stream",
          "name": "stdout",
          "text": [
            "Quantos anos você tem de empresa: 4\n",
            "Qual o seu salário: 1000\n",
            "Parabéns, seu novo salário com a bonificação será de: 1100.0R$\n"
          ]
        }
      ]
    },
    {
      "cell_type": "code",
      "source": [
        "salario = float(input('Qual o seu salário: '))\n",
        "anoadmin = int(input('Qual seu ano de admissão na empresa?'))\n",
        "anoatual = int(input('Em que ano estamos?'))\n",
        "\n",
        "tempo = anoatual-anoadmin\n",
        "\n",
        "if (tempo>5) :\n",
        "  bonus = salario *0.2\n",
        "else :\n",
        "  bonus = salario *0.1\n",
        "\n",
        "print('Você tem {} anos dentro desta empresa.'.format(tempo))\n",
        "print('Seu salário é de {}.'.format(salario))\n",
        "print('E sua bonificação é de {}.'.format(bonus))\n",
        "print('Salário final {}.'.format(bonus+salario))\n"
      ],
      "metadata": {
        "colab": {
          "base_uri": "https://localhost:8080/"
        },
        "id": "RsgPKQeZM6Yh",
        "outputId": "3704f963-7cd7-4145-afe0-e93f96b14971"
      },
      "execution_count": null,
      "outputs": [
        {
          "output_type": "stream",
          "name": "stdout",
          "text": [
            "Qual o seu salário: 1000\n",
            "Qual seu ano de admissãoi na empresa?2018\n",
            "Em que ano estamos?2020\n",
            "Você tem 2 anos dentro desta empresa.\n",
            "Seu salário é de 1000.0.\n",
            "E sua bonificação é de 100.0.\n",
            "Salário final 1100.0.\n"
          ]
        }
      ]
    },
    {
      "cell_type": "code",
      "source": [
        "media1 = float(input('Digite sua primeira nota: '))\n",
        "media2 = float(input('Digite sua segunda nota: '))\n",
        "media3 = float(input('Digite sua terceira nota: '))\n",
        "\n",
        "if media1>=7 and media2>=7 and media3>=7 :\n",
        "  print('Você passou de ano!')\n",
        "else :\n",
        "  print('Você não passou de ano!')\n"
      ],
      "metadata": {
        "colab": {
          "base_uri": "https://localhost:8080/"
        },
        "id": "Iq9U4Bf1YMC_",
        "outputId": "6cbb8d83-f174-4976-81a7-d2c11b1fa277"
      },
      "execution_count": null,
      "outputs": [
        {
          "output_type": "stream",
          "name": "stdout",
          "text": [
            "Digite sua primeira nota: 8.5\n",
            "Digite sua segunda nota: 6.2\n",
            "Digite sua terceira nota: 7.7\n",
            "Você não passou de ano!\n"
          ]
        }
      ]
    },
    {
      "cell_type": "code",
      "source": [
        "valor = int(input('Digite um valor qualquer: '))\n",
        "\n",
        "if (valor >=1 and valor <=100) or (valor >= -100 and valor <=-1) :\n",
        "  print('Um dos critérios foi atendido!')"
      ],
      "metadata": {
        "colab": {
          "base_uri": "https://localhost:8080/"
        },
        "id": "llVOyzcUb3-l",
        "outputId": "1946628e-11e3-4d17-c404-c68f0aa3ba8b"
      },
      "execution_count": null,
      "outputs": [
        {
          "output_type": "stream",
          "name": "stdout",
          "text": [
            "Digite um valor qualquer: -1\n",
            "Um dos critérios foi atendido!\n"
          ]
        }
      ]
    },
    {
      "cell_type": "code",
      "source": [
        "print('-'*5,'Feirinha do Arthur','-'*5)\n",
        "print(' ''Digite [1] para Maça\\n','Digite [2] para Laranja\\n','Digite [3] para Banana')\n",
        "print('-'*30)\n",
        "produto = int(input('Qual produto você quer: '))\n",
        "quantidade = int(input('Qual a quantidade : '))\n",
        "\n",
        "if (produto==1) :\n",
        "  valor = quantidade*2.30\n",
        "  print('Você comprou {}un de Maças, o valor será de: {}R$'.format(quantidade,valor))\n",
        "else:\n",
        "  if (produto==2) :\n",
        "    valor = quantidade*3.60\n",
        "    print('Você comprou {}un de Laranhas, o valor será de: {}R$'.format(quantidade,valor))\n",
        "  else:\n",
        "    if (produto==3) :\n",
        "      valor = quantidade*1.85\n",
        "      print('Você comprou {}un de Bananas, o valor será de: {}R$'.format(quantidade,valor))\n",
        "    else:\n",
        "      print('Produto inválido')"
      ],
      "metadata": {
        "colab": {
          "base_uri": "https://localhost:8080/"
        },
        "id": "wSlWk8_29RdM",
        "outputId": "d9644421-22f6-4288-a62a-e0014327791f"
      },
      "execution_count": null,
      "outputs": [
        {
          "output_type": "stream",
          "name": "stdout",
          "text": [
            "----- Feirinha do Arthur -----\n",
            " Digite [1] para Maça\n",
            " Digite [2] para Laranja\n",
            " Digite [3] para Banana\n",
            "------------------------------\n",
            "Qual produto você quer: 3\n",
            "Qual a quantidade : 5\n",
            "Você comprou 5un de Bananas, o valor será de: 9.25R$\n"
          ]
        }
      ]
    },
    {
      "cell_type": "code",
      "source": [
        "lado1 = int(input('Digite o tamanho do 1 lado: '))\n",
        "lado2 = int(input('Digite o tamanho do 2 lado: '))\n",
        "lado3 = int(input('Digite o tamanho do 3 lado: '))\n",
        "\n",
        "if (lado1>0) and (lado2>0) and (lado3>0) :\n",
        "  if (lado1+lado2>lado3) and (lado1+lado3>lado2) and (lado3+lado2>lado1) :\n",
        "    if (lado1!=lado2) and (lado1!=lado3) and (lado2!=lado3) :\n",
        "      print('Triangulo escaleno!')\n",
        "    else:\n",
        "      if (lado1==lado2) and (lado1==lado3) and (lado3==lado2) :\n",
        "        print('Triangulo Equilátero!')\n",
        "      else:\n",
        "        print('Triangulo Isósceles')\n",
        "  else:\n",
        "    print('Ao menos um dos valores indicados não formam um triangulo')\n",
        "else:\n",
        "  print('Ao menos um dos valores indicados não formam um triangulo')"
      ],
      "metadata": {
        "colab": {
          "base_uri": "https://localhost:8080/"
        },
        "id": "qCajCO5-EY_H",
        "outputId": "9fa9d869-8993-449f-a168-01f7d5f97182"
      },
      "execution_count": null,
      "outputs": [
        {
          "output_type": "stream",
          "name": "stdout",
          "text": [
            "Digite o tamanho do 1 lado: 0\n",
            "Digite o tamanho do 2 lado: 1\n",
            "Digite o tamanho do 3 lado: 3\n",
            "Ao menos um dos valores indicados não formam um triangulo\n"
          ]
        }
      ]
    },
    {
      "cell_type": "code",
      "source": [
        "n1 = float(input('Digite o primeiro valor : '))\n",
        "n2 = float(input('Digite o segundo valor : '))\n",
        "operacao = int(input('Qual operação você quer realizar:\\n' '[1] Subtração  [2] Adição  [3] Multiplicação  [4] Divisão '))\n",
        "\n",
        "if (operacao==1) :\n",
        "  calculo = n1-n2\n",
        "  print('O resultado será : {}'.format(calculo))\n",
        "elif (operacao==2) :\n",
        "  calculo = n1+n2\n",
        "  print('O resultado será : {}'.format(calculo))\n",
        "elif (operacao==3) :\n",
        "  calculo = n1*n2\n",
        "  print('O resultado será : {}'.format(calculo))\n",
        "elif (operacao==4) :\n",
        "  calculo = n1/n2\n",
        "  print('O resultado será : {}'.format(calculo))\n",
        ""
      ],
      "metadata": {
        "colab": {
          "base_uri": "https://localhost:8080/"
        },
        "id": "uQB9Mf41vNqy",
        "outputId": "68503522-ccb1-41aa-8d6e-10bae31b8018"
      },
      "execution_count": 10,
      "outputs": [
        {
          "output_type": "stream",
          "name": "stdout",
          "text": [
            "Digite o primeiro valor : 5.3\n",
            "Digite o segundo valor : 2.5\n",
            "Qual operação você quer realizar:\n",
            "[1] Subtração  [2] Adição  [3] Multiplicação  [4] Divisão 2\n",
            "O resultado será : 7.8\n"
          ]
        }
      ]
    },
    {
      "cell_type": "code",
      "source": [
        "compra = float(input('Qual o valor da compra: '))\n",
        "pagamento = int(input('Digite a forma de pagamento\\n'   ' [1] Pagamento a vista  [2] Parcelado em 3x  [3] Parcelado em 5x  [4] Parcelado em 10x' '  Pressione outra tecla para sair '))\n",
        "\n",
        "if (pagamento==1) :\n",
        "  desconto = compra - (compra*0.05)\n",
        "  print('Valor inicial compra {}R$, desconto de 5% devido pagamento a vista\\n' 'Valor final da compra será de {}R$'.format(compra,desconto))\n",
        "elif (pagamento==2) :\n",
        "  parcela = compra/3\n",
        "  print('Valor inicial compra {}R$, devido ao parcelamento em 3x, não contará com juros e o valor permanecerá {}R$\\n' 'Valor da parcela será 3x de {}R$'.format(compra,compra,parcela))\n",
        "elif (pagamento==3) :\n",
        "  desconto = compra + (compra*0.02)\n",
        "  parcela = desconto/5\n",
        "  print('Valor inicial compra {}R$, devido ao parcelamento em 5x, teremos um acréscimo de 2% e o valor será de {}R$\\n' 'Valor da parcela será 5x de {}R$'.format(compra,desconto,parcela))\n",
        "elif (pagamento==4) :\n",
        "  desconto = compra + (compra*0.08)\n",
        "  parcela = desconto/10\n",
        "  print('Valor inicial compra {}R$, devido ao parcelamento em 10x, teremos um acréscimo de 8% e o valor será de {}R$\\n' 'Valor da parcela será 10x de {}R$'.format(compra,desconto,parcela))\n",
        "else:\n",
        "  print('Saindo')"
      ],
      "metadata": {
        "colab": {
          "base_uri": "https://localhost:8080/"
        },
        "id": "e_SH6R-Qx_dw",
        "outputId": "1eefe796-e0fc-4c8d-cfcc-63ca8e10f24d"
      },
      "execution_count": 32,
      "outputs": [
        {
          "output_type": "stream",
          "name": "stdout",
          "text": [
            "Qual o valor da compra: 1300\n",
            "Digite a forma de pagamento\n",
            " [1] Pagamento a vista  [2] Parcelado em 3x  [3] Parcelado em 5x  [4] Parcelado em 10x  Pressione outra tecla para sair 2\n",
            "Valor inicial compra 1300.0R$, devido ao parcelamento em 3x, não contará com juros e o valor permanecerá 1300.0R$\n",
            "Valor da parcela será 3x de 433.3333333333333R$\n"
          ]
        }
      ]
    },
    {
      "cell_type": "code",
      "source": [
        "print('Forma de pagamento: ')\n",
        "print('Tecle [1] para pagamento a vista')\n",
        "print('Tecle [2] para parcelar em 3x')\n",
        "print('Tecle [3] para parcelar em 5x')\n",
        "print('Tecle [4] para parcelar em 10x')\n",
        "print('Pressione outra tecla para sair')\n",
        "pagamento = int(input('Digite a forma de pagamento: '))\n",
        "if(pagamento!=1) and (pagamento!=2) and (pagamento!=3) and (pagamento!=4) :\n",
        "  print('Saindo...')\n",
        "else :\n",
        "  compra = float(input('Qual o valor da compra: '))\n",
        "  if (pagamento==1) :\n",
        "    desconto = compra - (compra*0.05)\n",
        "    print('Valor inicial compra {}R$, desconto de 5% devido pagamento a vista\\n' 'Valor final da compra será de {}R$'.format(compra,desconto))\n",
        "  elif (pagamento==2) :\n",
        "    parcela = compra/3\n",
        "    print('Valor inicial compra {}R$, devido ao parcelamento em 3x, não contará com juros e o valor permanecerá {}R$\\n' 'Parcela: 3x de {}R$'.format(compra,compra,parcela))\n",
        "  elif (pagamento==3) :\n",
        "    desconto = compra + (compra*0.02)\n",
        "    parcela = desconto/5\n",
        "    print('Valor inicial compra {}R$, devido ao parcelamento em 5x, teremos um acréscimo de 2% e o valor será de {}R$\\n' 'Parcela: 5x de {}R$'.format(compra,desconto,parcela))\n",
        "  elif (pagamento==4) :\n",
        "    desconto = compra + (compra*0.08)\n",
        "    parcela = desconto/10\n",
        "    print('Valor inicial compra {}R$, devido ao parcelamento em 10x, teremos um acréscimo de 8% e o valor será de {}R$\\n' 'Parcela: 10x de {}R$'.format(compra,desconto,parcela))"
      ],
      "metadata": {
        "colab": {
          "base_uri": "https://localhost:8080/"
        },
        "id": "a9xHWHhk2LO2",
        "outputId": "14d3e09c-a068-4f4b-893e-34237975c402"
      },
      "execution_count": 31,
      "outputs": [
        {
          "output_type": "stream",
          "name": "stdout",
          "text": [
            "Forma de pagamento: \n",
            "Tecle [1] para pagamento a vista\n",
            "Tecle [2] para parcelar em 3x\n",
            "Tecle [3] para parcelar em 5x\n",
            "Tecle [4] para parcelar em 10x\n",
            "Pressione outra tecla para sair\n",
            "Digite a forma de pagamento: 4\n",
            "Qual o valor da compra: 1300\n",
            "Valor inicial compra 1300.0R$, devido ao parcelamento em 10x, teremos um acréscimo de 8% e o valor será de 1404.0R$\n",
            "Parcela: 10x de 140.4R$\n"
          ]
        }
      ]
    }
  ]
}