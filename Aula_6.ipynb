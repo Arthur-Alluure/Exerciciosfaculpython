{
  "nbformat": 4,
  "nbformat_minor": 0,
  "metadata": {
    "colab": {
      "provenance": [],
      "authorship_tag": "ABX9TyOC7bqExYmtwZXg538c7XE4",
      "include_colab_link": true
    },
    "kernelspec": {
      "name": "python3",
      "display_name": "Python 3"
    },
    "language_info": {
      "name": "python"
    }
  },
  "cells": [
    {
      "cell_type": "markdown",
      "metadata": {
        "id": "view-in-github",
        "colab_type": "text"
      },
      "source": [
        "<a href=\"https://colab.research.google.com/github/Arthur-Alluure/Exerciciosfaculpython/blob/Atualizada/Aula_6.ipynb\" target=\"_parent\"><img src=\"https://colab.research.google.com/assets/colab-badge.svg\" alt=\"Open In Colab\"/></a>"
      ]
    },
    {
      "cell_type": "code",
      "execution_count": null,
      "metadata": {
        "colab": {
          "base_uri": "https://localhost:8080/"
        },
        "id": "BPD9cyqW6_s4",
        "outputId": "e57529fa-6073-4eab-fb20-98e13371a2b9"
      },
      "outputs": [
        {
          "output_type": "stream",
          "name": "stdout",
          "text": [
            "('Mochila', 'Camisa', 'Bacon', 'Abacate')\n"
          ]
        }
      ],
      "source": [
        "mochila = ('Mochila','Camisa','Bacon','Abacate')\n",
        "print(mochila)"
      ]
    },
    {
      "cell_type": "code",
      "source": [
        "print(mochila[0]) #Pirnt do elemento 1- indice 0\n",
        "print(mochila[2]) #print do elemento 3 - indice 2\n",
        "print(mochila[0:2]) #Print do elemento 1  2 - elemento 0 e 1\n",
        "print(mochila[2:]) #print dos elementos a partir do índice 2\n",
        "print(mochila[-1]) #print do último"
      ],
      "metadata": {
        "colab": {
          "base_uri": "https://localhost:8080/"
        },
        "id": "4nf4c2fbEW_0",
        "outputId": "496dcb25-1761-4fa0-a5f0-64f9914bf902"
      },
      "execution_count": null,
      "outputs": [
        {
          "output_type": "stream",
          "name": "stdout",
          "text": [
            "Mochila\n",
            "Bacon\n",
            "('Mochila', 'Camisa')\n",
            "('Bacon', 'Abacate')\n",
            "Abacate\n"
          ]
        }
      ]
    },
    {
      "cell_type": "code",
      "source": [
        "for count in mochila:\n",
        "  print('Na minha mochila tem: {}'.format(count))"
      ],
      "metadata": {
        "colab": {
          "base_uri": "https://localhost:8080/"
        },
        "id": "k4prBLP7IDuN",
        "outputId": "8b54e392-e5c4-4db4-af73-4edf5f6e20d9"
      },
      "execution_count": null,
      "outputs": [
        {
          "output_type": "stream",
          "name": "stdout",
          "text": [
            "Na minha mochila tem: Mochila\n",
            "Na minha mochila tem: Camisa\n",
            "Na minha mochila tem: Bacon\n",
            "Na minha mochila tem: Abacate\n"
          ]
        }
      ]
    },
    {
      "cell_type": "code",
      "source": [
        "tam = len(mochila)\n",
        "for count in range(0,tam) :\n",
        "  print('Na minha mochila tem: {}'.format(mochila[count]))"
      ],
      "metadata": {
        "colab": {
          "base_uri": "https://localhost:8080/"
        },
        "id": "jYHgZMQ0IqZd",
        "outputId": "697379e1-5368-4a20-9b8f-6a8addea1953"
      },
      "execution_count": null,
      "outputs": [
        {
          "output_type": "stream",
          "name": "stdout",
          "text": [
            "Na minha mochila tem: Mochila\n",
            "Na minha mochila tem: Camisa\n",
            "Na minha mochila tem: Bacon\n",
            "Na minha mochila tem: Abacate\n"
          ]
        }
      ]
    },
    {
      "cell_type": "code",
      "source": [
        "mochila = ('Mochila','Camisa','Bacon','Abacate')\n",
        "upgrade = ('Queijo','Canivete')\n",
        "mochila_grande = mochila + upgrade\n",
        "\n",
        "print(mochila)\n",
        "print(upgrade)\n",
        "print(mochila_grande)"
      ],
      "metadata": {
        "colab": {
          "base_uri": "https://localhost:8080/"
        },
        "id": "lY0Day8nKFud",
        "outputId": "bcea91ba-ccb6-40bb-dfbf-f7975450329e"
      },
      "execution_count": null,
      "outputs": [
        {
          "output_type": "stream",
          "name": "stdout",
          "text": [
            "('Mochila', 'Camisa', 'Bacon', 'Abacate')\n",
            "('Queijo', 'Canivete')\n",
            "('Mochila', 'Camisa', 'Bacon', 'Abacate', 'Queijo', 'Canivete')\n"
          ]
        }
      ]
    },
    {
      "cell_type": "code",
      "source": [
        "mochila_grande_invertida = upgrade + mochila\n",
        "print(mochila_grande)\n",
        "print(mochila_grande_invertida)"
      ],
      "metadata": {
        "colab": {
          "base_uri": "https://localhost:8080/"
        },
        "id": "qDtK-FxnKddu",
        "outputId": "721ed203-688c-4ef1-ce48-25241a8ccc73"
      },
      "execution_count": null,
      "outputs": [
        {
          "output_type": "stream",
          "name": "stdout",
          "text": [
            "('Mochila', 'Camisa', 'Bacon', 'Abacate', 'Queijo', 'Canivete')\n",
            "('Queijo', 'Canivete', 'Mochila', 'Camisa', 'Bacon', 'Abacate')\n"
          ]
        }
      ]
    },
    {
      "cell_type": "code",
      "source": [
        "def soma (*num) :\n",
        "  soma = 0\n",
        "  print('Tupla: {}'.format(num))\n",
        "  for i in num:\n",
        "    soma += i\n",
        "  return soma\n",
        "\n",
        "print('Resultado: {}'.format(soma(1,2)))\n",
        "print('Resultado: {}'.format(soma(1,2,3,4,5,6,7,8,9,)))"
      ],
      "metadata": {
        "colab": {
          "base_uri": "https://localhost:8080/"
        },
        "id": "ujQmFUL9NGLo",
        "outputId": "6c7ebef6-464a-49d7-85dd-5490b6767993"
      },
      "execution_count": null,
      "outputs": [
        {
          "output_type": "stream",
          "name": "stdout",
          "text": [
            "Tupla: (1, 2)\n",
            "Resultado: 3\n",
            "Tupla: (1, 2, 3, 4, 5, 6, 7, 8, 9)\n",
            "Resultado: 45\n"
          ]
        }
      ]
    },
    {
      "cell_type": "code",
      "source": [
        "linguagens = ('Rust','TypeScript','Python','Kotlin','Go','Julia','Dart','C#','Swift','JavaScript',)\n",
        "print('Top 10 linguagens de programação mais amadas de 2020: ')\n",
        "print('segundo o Stack Overflow')\n",
        "for i in range(0,len(linguagens)) :\n",
        "  print(i+1,' -',linguagens[i])\n",
        "\n",
        "print('')\n",
        "print('TOP 3: ',linguagens[:3])\n",
        "print('Últimos 5: ',linguagens[-5:])\n",
        "\n",
        "count = 0\n",
        "while (linguagens[count]!= 'Python' ) :\n",
        "  count +=1\n",
        "print('Encontramos Python na {} posição!'.format(count+1))\n"
      ],
      "metadata": {
        "colab": {
          "base_uri": "https://localhost:8080/"
        },
        "id": "hvCyNOGTUCEp",
        "outputId": "2413d76a-6581-4b6e-8da8-8209beaa9ae8"
      },
      "execution_count": null,
      "outputs": [
        {
          "output_type": "stream",
          "name": "stdout",
          "text": [
            "Top 10 linguagens de programação mais amadas de 2020: \n",
            "segundo o Stack Overflow\n",
            "1  - Rust\n",
            "2  - TypeScript\n",
            "3  - Python\n",
            "4  - Kotlin\n",
            "5  - Go\n",
            "6  - Julia\n",
            "7  - Dart\n",
            "8  - C#\n",
            "9  - Swift\n",
            "10  - JavaScript\n",
            "\n",
            "TOP 3:  ('Rust', 'TypeScript', 'Python')\n",
            "Últimos 5:  ('Julia', 'Dart', 'C#', 'Swift', 'JavaScript')\n",
            "Encontramos Python na 3 posição!\n"
          ]
        }
      ]
    },
    {
      "cell_type": "code",
      "source": [
        "def exercicio (mensagem,*num) :  #minha forma de resolver\n",
        "  maiornumero= 0\n",
        "  for i in num :\n",
        "    if i > maiornumero :\n",
        "      maiornumero = i\n",
        "  print('{}'.format(mensagem))\n",
        "  print('{}'.format(maiornumero))\n",
        "\n",
        "\n",
        "exercicio('O maior numero foi',3,6,7,8,9,56,5,2,62,55,4,3,43,423,42,43,100,33,2,33,22,1,2,3,4,54,)"
      ],
      "metadata": {
        "colab": {
          "base_uri": "https://localhost:8080/"
        },
        "id": "Il2FXCTfzF6g",
        "outputId": "0798ebcb-e3bd-460a-a907-ca9613188f7c"
      },
      "execution_count": null,
      "outputs": [
        {
          "output_type": "stream",
          "name": "stdout",
          "text": [
            "O maior numero foi\n",
            "423\n"
          ]
        }
      ]
    },
    {
      "cell_type": "code",
      "source": [
        "def maior (msg,*num) :\n",
        "  maior = 0\n",
        "  for i in range(0,len(num)) :\n",
        "    if (num[i]>maior) :\n",
        "      maior = num[i]\n",
        "  print(msg,maior)\n",
        "\n",
        "\n",
        "maior('maior numero: ',8,6,6,4,5,5,3,4,5,66,7,8,34,56,564,3,65,4,999,223,1223,4)"
      ],
      "metadata": {
        "colab": {
          "base_uri": "https://localhost:8080/"
        },
        "id": "CAxnnLZ00WtI",
        "outputId": "493901ed-0c67-4ef1-b03f-8729f3d5b4d0"
      },
      "execution_count": null,
      "outputs": [
        {
          "output_type": "stream",
          "name": "stdout",
          "text": [
            "maior numero:  1223\n"
          ]
        }
      ]
    },
    {
      "cell_type": "code",
      "source": [
        "mochila = ('Mochila','Camisa','Bacon','Abacate')\n",
        "print('Isso é uma tupla: ',mochila)\n",
        "mochila = ['Mochila','Camisa','Bacon','Abacate']\n",
        "print('Isso é uma lista: ',mochila)"
      ],
      "metadata": {
        "colab": {
          "base_uri": "https://localhost:8080/"
        },
        "id": "EPBHRWLe6eHb",
        "outputId": "7ca34c50-61c4-41b2-c7ab-19955d4faa0f"
      },
      "execution_count": null,
      "outputs": [
        {
          "output_type": "stream",
          "name": "stdout",
          "text": [
            "Isso é uma tupla:  ('Mochila', 'Camisa', 'Bacon', 'Abacate')\n",
            "Isso é uma lista:  ['Mochila', 'Camisa', 'Bacon', 'Abacate']\n"
          ]
        }
      ]
    },
    {
      "cell_type": "code",
      "source": [
        "mochila[2] = 'Laranja' #por ser uma lista posso alterar os dados, aqui estou trocando o indice 2 \"bacon\" por \"laranja\"\n",
        "print('Lista: ',mochila)"
      ],
      "metadata": {
        "colab": {
          "base_uri": "https://localhost:8080/"
        },
        "id": "UtVZij7-69xB",
        "outputId": "724671a5-8922-47c8-cff0-8c534a78dbba"
      },
      "execution_count": null,
      "outputs": [
        {
          "output_type": "stream",
          "name": "stdout",
          "text": [
            "Lista:  ['Mochila', 'Camisa', 'Laranja', 'Abacate']\n"
          ]
        }
      ]
    },
    {
      "cell_type": "code",
      "source": [
        "mochila.append('Ovos')\n",
        "print(mochila)"
      ],
      "metadata": {
        "colab": {
          "base_uri": "https://localhost:8080/"
        },
        "id": "vh2OB6wJ-5Am",
        "outputId": "e3090920-d17c-438a-adc6-66a13dc57047"
      },
      "execution_count": null,
      "outputs": [
        {
          "output_type": "stream",
          "name": "stdout",
          "text": [
            "['Mochila', 'Canivete', 'Laranja', 'Abacate', 'Ovos', 'Ovos']\n"
          ]
        }
      ]
    },
    {
      "cell_type": "code",
      "source": [
        "mochila.insert(1,'Canivete')\n",
        "print(mochila)"
      ],
      "metadata": {
        "colab": {
          "base_uri": "https://localhost:8080/"
        },
        "id": "7As3n-HX_Itu",
        "outputId": "50770c5f-e421-4940-dddb-dd0ff170ea14"
      },
      "execution_count": null,
      "outputs": [
        {
          "output_type": "stream",
          "name": "stdout",
          "text": [
            "['Mochila', 'Canivete', 'Laranja', 'Abacate', 'Ovos']\n"
          ]
        }
      ]
    },
    {
      "cell_type": "code",
      "source": [
        "del mochila [1]\n",
        "print(mochila)"
      ],
      "metadata": {
        "colab": {
          "base_uri": "https://localhost:8080/"
        },
        "id": "4-67hM1A_VPh",
        "outputId": "3f810104-f0f4-45cd-938b-0deb72509ce5"
      },
      "execution_count": null,
      "outputs": [
        {
          "output_type": "stream",
          "name": "stdout",
          "text": [
            "['Mochila', 'Laranja', 'Abacate', 'Ovos']\n"
          ]
        }
      ]
    },
    {
      "cell_type": "code",
      "source": [
        "mochila.remove('Ovos')\n",
        "print(mochila)"
      ],
      "metadata": {
        "colab": {
          "base_uri": "https://localhost:8080/"
        },
        "id": "4HNIZG9Q_aOg",
        "outputId": "48d02c62-b03c-4da9-8064-92fae1844b44"
      },
      "execution_count": null,
      "outputs": [
        {
          "output_type": "stream",
          "name": "stdout",
          "text": [
            "['Mochila', 'Canivete', 'Laranja', 'Abacate']\n"
          ]
        }
      ]
    },
    {
      "cell_type": "code",
      "source": [
        "x = [5,7,9,11]\n",
        "y = x[:]\n",
        "print(x)\n",
        "print(y)"
      ],
      "metadata": {
        "colab": {
          "base_uri": "https://localhost:8080/"
        },
        "id": "yE1QJXoHcPDz",
        "outputId": "30467216-2384-41de-b9cb-cd792f3a56a6"
      },
      "execution_count": null,
      "outputs": [
        {
          "output_type": "stream",
          "name": "stdout",
          "text": [
            "[5, 7, 9, 11]\n",
            "[5, 7, 9, 11]\n"
          ]
        }
      ]
    },
    {
      "cell_type": "code",
      "source": [
        "y[0] = 2\n",
        "print(x)\n",
        "print(y)"
      ],
      "metadata": {
        "colab": {
          "base_uri": "https://localhost:8080/"
        },
        "id": "94HlWulFcuAY",
        "outputId": "871aef9f-b6fd-4672-8e0d-1d644b061204"
      },
      "execution_count": null,
      "outputs": [
        {
          "output_type": "stream",
          "name": "stdout",
          "text": [
            "[5, 7, 9, 11]\n",
            "[2, 7, 9, 11]\n"
          ]
        }
      ]
    },
    {
      "cell_type": "code",
      "source": [
        "mochila = ('Mochila','Camisa','Bacon','Abacate')\n",
        "print(mochila[0])"
      ],
      "metadata": {
        "colab": {
          "base_uri": "https://localhost:8080/"
        },
        "id": "vZJ8m0xDfv4t",
        "outputId": "f8bf4388-65d0-42b6-a1b5-0522fc834170"
      },
      "execution_count": null,
      "outputs": [
        {
          "output_type": "stream",
          "name": "stdout",
          "text": [
            "Mochila\n"
          ]
        }
      ]
    },
    {
      "cell_type": "code",
      "source": [
        "mochila = ('Mochila','Camisa','Bacon','Abacate')\n",
        "print(mochila[0][0])\n",
        "print(mochila[2][1])"
      ],
      "metadata": {
        "colab": {
          "base_uri": "https://localhost:8080/"
        },
        "id": "SF0bZwejgFxA",
        "outputId": "94aa9728-5825-4ba5-d940-64e45a1ae493"
      },
      "execution_count": null,
      "outputs": [
        {
          "output_type": "stream",
          "name": "stdout",
          "text": [
            "M\n",
            "a\n"
          ]
        }
      ]
    },
    {
      "cell_type": "code",
      "source": [
        "mochila = ('Mochila','Camisa','Bacon','Abacate')\n",
        "for item in mochila:   #aqui eu coloca o primeiro contador \"item\" para entrar em todos os itens da lista\n",
        "  for letra in item:   #aqui temos o contador \"lentra\" que vai contar todos os indices individuais dentro de cada item da lista\n",
        "    print(letra,end='')\n",
        "  print()"
      ],
      "metadata": {
        "colab": {
          "base_uri": "https://localhost:8080/"
        },
        "id": "BSWCbyOEgr7M",
        "outputId": "6a78ef7e-df85-4e07-823f-a4533c5812ce"
      },
      "execution_count": null,
      "outputs": [
        {
          "output_type": "stream",
          "name": "stdout",
          "text": [
            "Mochila\n",
            "Camisa\n",
            "Bacon\n",
            "Abacate\n"
          ]
        }
      ]
    },
    {
      "cell_type": "code",
      "source": [
        "mochila = ('Mochila','Camisa','Bacon','Abacate')\n",
        "for i in range(0,len(mochila)) :\n",
        "  for j in range(0,len(mochila[i])) :  #a maneira alternativa de fazer o codigo acima usando range\n",
        "    print(mochila[i][j], end='')\n",
        "  print()"
      ],
      "metadata": {
        "colab": {
          "base_uri": "https://localhost:8080/"
        },
        "id": "fhf2QpIRhOyd",
        "outputId": "65716f6c-8062-4e34-b719-8a092f34ff53"
      },
      "execution_count": null,
      "outputs": [
        {
          "output_type": "stream",
          "name": "stdout",
          "text": [
            "Mochila\n",
            "Camisa\n",
            "Bacon\n",
            "Abacate\n"
          ]
        }
      ]
    },
    {
      "cell_type": "code",
      "source": [
        "item = []   #crio 2 listas vazias\n",
        "mercado = []\n",
        "\n",
        "for i in range(3) :\n",
        "  item.append(input('Digite o nome do item: '))  #adiciono tudo isso a lista item\n",
        "  item.append(int(input('Digite a quantidade: ')))\n",
        "  item.append(float(input('Digite o valor: ')))\n",
        "  mercado.append(item[:]) #aqui eu adiciono uma copia da lista item para o mercado\n",
        "  item.clear() #e limpo a lista item para começar do 0 com novos itens\n",
        "print(mercado)"
      ],
      "metadata": {
        "id": "uOCYff3jhZKr"
      },
      "execution_count": null,
      "outputs": []
    },
    {
      "cell_type": "code",
      "source": [
        "#forma alternativa\n",
        "\n",
        "mercado = []  #lista vazia\n",
        "\n",
        "for i in range(3) :\n",
        "  nome = input('Digite o nome do item: ')   #crio variaveis correspondentes a cada item\n",
        "  qnt = int(input('Digite a quantidade: '))\n",
        "  valor = float(input('Digite o valor: '))\n",
        "  mercado.append([nome,qnt,valor])  #faço o append dos itens armazenadas nas variaveis para a lista\n",
        "\n",
        "print(mercado)\n",
        "\n",
        "print(mercado[0][0][1])  #indexação tripla para acessar um caractere dentro de uma lista sobre lista"
      ],
      "metadata": {
        "colab": {
          "base_uri": "https://localhost:8080/"
        },
        "id": "96ECv5pl32qO",
        "outputId": "f5cde298-fb80-4e35-c23c-19d4d5b21556"
      },
      "execution_count": null,
      "outputs": [
        {
          "output_type": "stream",
          "name": "stdout",
          "text": [
            "Digite o nome do item: Cebola\n",
            "Digite a quantidade: 2\n",
            "Digite o valor: 0.99\n",
            "Digite o nome do item: Tomate\n",
            "Digite a quantidade: 5\n",
            "Digite o valor: 0.89\n",
            "Digite o nome do item: Saco de Arroz\n",
            "Digite a quantidade: 1\n",
            "Digite o valor: 5\n",
            "[['Cebola', 2, 0.99], ['Tomate', 5, 0.89], ['Saco de Arroz', 1, 5.0]]\n",
            "e\n"
          ]
        }
      ]
    },
    {
      "cell_type": "code",
      "source": [
        "soma = 0\n",
        "print('Lista de compras: ')\n",
        "print('-'*20)\n",
        "print('Item | quantidade | valor unitário | total do item')\n",
        "for item in mercado:\n",
        "  print('{} | {} | {} | {}'.format(item[0],item[1],item[2],item[1]*item[2]))\n",
        "  soma += item[1]*item[2]\n",
        "print('-'*20)\n",
        "print('Total a ser pago: {}'.format(soma))"
      ],
      "metadata": {
        "colab": {
          "base_uri": "https://localhost:8080/"
        },
        "id": "QmbXDnek5imx",
        "outputId": "540e85ab-36c0-4744-833c-9064a125255b"
      },
      "execution_count": null,
      "outputs": [
        {
          "output_type": "stream",
          "name": "stdout",
          "text": [
            "Lista de compras: \n",
            "--------------------\n",
            "Item | quantidade | valor unitário | total do item\n",
            "Cebola | 2 | 0.99 | 1.98\n",
            "Tomate | 5 | 0.89 | 4.45\n",
            "Saco de Arroz | 1 | 5.0 | 5.0\n",
            "--------------------\n",
            "Total a ser pago: 11.43\n"
          ]
        }
      ]
    },
    {
      "cell_type": "code",
      "source": [
        "notas = []\n",
        "soma = 0\n",
        "nnotas = 0\n",
        "try:\n",
        "  nota = float(input('Digite a nota: '))\n",
        "  while nota>=0 :\n",
        "    notas.append(nota)\n",
        "    soma += nota\n",
        "    nnotas += 1\n",
        "    nota = float(input('Digite a nota: '))\n",
        "except ZeroDivisionError :\n",
        "  print('Digite uma nota válida: ')\n",
        "\n",
        "\n",
        "media = soma/nnotas\n",
        "print(media)\n",
        "print(notas)"
      ],
      "metadata": {
        "colab": {
          "base_uri": "https://localhost:8080/"
        },
        "id": "4iMR6BdO6qS8",
        "outputId": "7acd6add-d2b6-4720-f9f3-12712a8de529"
      },
      "execution_count": null,
      "outputs": [
        {
          "output_type": "stream",
          "name": "stdout",
          "text": [
            "Digite a nota: 5\n",
            "Digite a nota: 1\n",
            "Digite a nota: 2\n",
            "Digite a nota: 0\n",
            "Digite a nota: -1\n",
            "2.0\n",
            "[5.0, 1.0, 2.0, 0.0]\n"
          ]
        }
      ]
    },
    {
      "cell_type": "code",
      "source": [
        "def sequencial (lista,dado) :\n",
        "  c = 0\n",
        "  while c < len(lista) :\n",
        "    if (lista[c] == dado) :\n",
        "      return c\n",
        "    c+=1\n",
        "  return -1\n",
        "\n",
        "teste = [3,7,9,1,0,7,5,12]\n",
        "dado = int(input('Digite um valor inteiro: '))\n",
        "res = sequencial(teste,dado)\n",
        "if res >= 0:\n",
        "  print('Posição onde o {} foi encontrado: {}'.format(dado,res+1))\n",
        "else:\n",
        "  print('Dado não localizado')\n"
      ],
      "metadata": {
        "colab": {
          "base_uri": "https://localhost:8080/"
        },
        "id": "K70wSaELBYBA",
        "outputId": "1a5ca749-2c99-4e63-d9bb-3b5a7c61bcb5"
      },
      "execution_count": null,
      "outputs": [
        {
          "output_type": "stream",
          "name": "stdout",
          "text": [
            "Digite um valor inteiro: 3\n",
            "Posição onde o 3 foi encontrado: 1\n"
          ]
        }
      ]
    },
    {
      "cell_type": "code",
      "source": [
        "pessoas = []\n",
        "imc = lambda peso, altura: peso / (altura**2)\n",
        "\n",
        "while True:\n",
        "  nome = input('nome: ')\n",
        "  altura = float(input('Altura (m) : '))\n",
        "  peso = int(input('Peso: '))\n",
        "  x = imc(peso,altura)\n",
        "  pessoas.append([nome,peso,altura,x])\n",
        "  res = input('Deseja fazer mais um cadastro? [S/N]')\n",
        "  if (res=='n') or (res=='N') :\n",
        "    break\n",
        "\n",
        "print('Cadastros: ',pessoas)\n",
        "print('Total de cadastros: ',len(pessoas))\n",
        "maior = 0\n",
        "menor = 99\n",
        "for i in range(0,len(pessoas)):\n",
        "  if pessoas [i][3] > maior:\n",
        "    maior = pessoas[i][3]\n",
        "  if pessoas[i][3] < menor :\n",
        "    menor = pessoas [i][3]\n",
        "print('Maior IMC: ',maior)\n",
        "print('Menor IMC: ',menor)\n",
        "\n"
      ],
      "metadata": {
        "colab": {
          "base_uri": "https://localhost:8080/"
        },
        "id": "QCpScDPuDrG6",
        "outputId": "2ee9973c-0452-413a-a2f3-60693252ddac"
      },
      "execution_count": null,
      "outputs": [
        {
          "output_type": "stream",
          "name": "stdout",
          "text": [
            "nome: arthur\n",
            "Altura (m) : 1.82\n",
            "Peso: 77\n",
            "Deseja fazer mais um cadastro? [S/N]s\n",
            "nome: rafael\n",
            "Altura (m) : 1.7\n",
            "Peso: 80\n",
            "Deseja fazer mais um cadastro? [S/N]s\n",
            "nome: liz\n",
            "Altura (m) : 1.62\n",
            "Peso: 50\n",
            "Deseja fazer mais um cadastro? [S/N]n\n",
            "Cadastros:  [['arthur', 77, 1.82, 23.24598478444632], ['rafael', 80, 1.7, 27.68166089965398], ['liz', 50, 1.62, 19.05197378448407]]\n",
            "Total de cadastros:  3\n",
            "Maior IMC:  27.68166089965398\n",
            "Menor IMC:  19.05197378448407\n"
          ]
        }
      ]
    },
    {
      "cell_type": "code",
      "source": [
        "numeros = []\n",
        "\n",
        "for c in range(15):\n",
        "    numero = int(input('Digite um número: '))\n",
        "    numeros.append(numero)\n",
        "\n",
        "print('Lista completo:', numeros)\n",
        "\n",
        "multiplos_de_10 = []\n",
        "for i in range(len(numeros)):\n",
        "    if numeros[i] % 10 == 0:\n",
        "        multiplos_de_10.append(i)\n",
        "if multiplos_de_10:\n",
        "    print('Posições com valores múltiplos de 10:', multiplos_de_10)\n",
        "else:\n",
        "    print('Nenhum valor múltiplo de 10 foi encontrado.')"
      ],
      "metadata": {
        "colab": {
          "base_uri": "https://localhost:8080/"
        },
        "id": "UAiT3qNlG6_7",
        "outputId": "0168d609-68ec-4ae3-b7d2-d5448f93459f"
      },
      "execution_count": null,
      "outputs": [
        {
          "output_type": "stream",
          "name": "stdout",
          "text": [
            "Digite um número: 10\n",
            "Digite um número: 5\n",
            "Digite um número: 6\n",
            "Digite um número: 5\n",
            "Digite um número: 4\n",
            "Digite um número: 3\n",
            "Digite um número: 7\n",
            "Digite um número: 8\n",
            "Digite um número: 2\n",
            "Digite um número: 4\n",
            "Digite um número: 20\n",
            "Digite um número: 30\n",
            "Digite um número: 78\n",
            "Digite um número: 55\n",
            "Digite um número: 44\n",
            "Lista completo: [10, 5, 6, 5, 4, 3, 7, 8, 2, 4, 20, 30, 78, 55, 44]\n",
            "Posições com valores múltiplos de 10: [0, 10, 11]\n"
          ]
        }
      ]
    },
    {
      "cell_type": "code",
      "source": [
        "game = {'nome': 'SuperMario','desenvolvedora':'Nintedo','ano':1990}\n",
        "print(game)"
      ],
      "metadata": {
        "colab": {
          "base_uri": "https://localhost:8080/"
        },
        "id": "xJdrzpx1O99Y",
        "outputId": "c0dd2228-48c6-4e11-faa4-07dbbb6a93e6"
      },
      "execution_count": null,
      "outputs": [
        {
          "output_type": "stream",
          "name": "stdout",
          "text": [
            "{'nome': 'SuperMario', 'desenvolvedora': 'Nintedo', 'ano': 1990}\n"
          ]
        }
      ]
    },
    {
      "cell_type": "code",
      "source": [
        "print(game['nome'])\n",
        "print(game['desenvolvedora'])\n",
        "print(game['ano'])\n"
      ],
      "metadata": {
        "colab": {
          "base_uri": "https://localhost:8080/"
        },
        "id": "syh2-uZLP5I0",
        "outputId": "11612298-dd52-4a41-9803-d0ff56aa1936"
      },
      "execution_count": null,
      "outputs": [
        {
          "output_type": "stream",
          "name": "stdout",
          "text": [
            "SuperMario\n",
            "Nintedo\n",
            "1990\n"
          ]
        }
      ]
    },
    {
      "cell_type": "code",
      "source": [
        "print(game.values())\n",
        "\n",
        "for i in game.values() :\n",
        "  print(i)"
      ],
      "metadata": {
        "colab": {
          "base_uri": "https://localhost:8080/"
        },
        "id": "-Pg1aSQ8SSIq",
        "outputId": "5a9265bf-26fc-43fa-b572-0db4ddb9f7f7"
      },
      "execution_count": null,
      "outputs": [
        {
          "output_type": "stream",
          "name": "stdout",
          "text": [
            "dict_values(['SuperMario', 'Nintedo', 1990])\n",
            "SuperMario\n",
            "Nintedo\n",
            "1990\n"
          ]
        }
      ]
    },
    {
      "cell_type": "code",
      "source": [
        "print(game.keys())\n",
        "\n",
        "for i in game.keys() :\n",
        "  print(i)"
      ],
      "metadata": {
        "colab": {
          "base_uri": "https://localhost:8080/"
        },
        "id": "PAMS0xtFScbd",
        "outputId": "1abaa192-2d41-4bcd-d31e-465f6cc41be6"
      },
      "execution_count": null,
      "outputs": [
        {
          "output_type": "stream",
          "name": "stdout",
          "text": [
            "dict_keys(['nome', 'desenvolvedora', 'ano'])\n",
            "nome\n",
            "desenvolvedora\n",
            "ano\n"
          ]
        }
      ]
    },
    {
      "cell_type": "code",
      "source": [
        "print(game.items())\n",
        "\n",
        "for i, j in game.items() :\n",
        "  print('{} = {}'.format(i,j))"
      ],
      "metadata": {
        "colab": {
          "base_uri": "https://localhost:8080/"
        },
        "id": "FwXtCptISz__",
        "outputId": "d5825a60-80aa-4d1d-d881-fb2e3c1fb056"
      },
      "execution_count": null,
      "outputs": [
        {
          "output_type": "stream",
          "name": "stdout",
          "text": [
            "dict_items([('nome', 'SuperMario'), ('desenvolvedora', 'Nintedo'), ('ano', 1990)])\n",
            "nome = SuperMario\n",
            "desenvolvedora = Nintedo\n",
            "ano = 1990\n"
          ]
        }
      ]
    },
    {
      "cell_type": "code",
      "source": [
        "games = []\n",
        "game1 = {'nome': 'SuperMario','videogame':'snes','ano':1990}\n",
        "game2 = {'nome': 'Zelda','videogame':'n64','ano':1998}\n",
        "game3 = {'nome': 'Pokemon','videogame':'gameboy','ano':1999}\n",
        "\n",
        "games = [game1,game2,game3]\n",
        "print(games)"
      ],
      "metadata": {
        "colab": {
          "base_uri": "https://localhost:8080/"
        },
        "id": "0_y1DJm2WVam",
        "outputId": "79173501-8eca-43b6-c2c1-ccb226420490"
      },
      "execution_count": null,
      "outputs": [
        {
          "output_type": "stream",
          "name": "stdout",
          "text": [
            "[{'nome': 'SuperMario', 'videogame': 'snes', 'ano': 1990}, {'nome': 'Zelda', 'videogame': 'n64', 'ano': 1998}, {'nome': 'Pokemon', 'videogame': 'gameboy', 'ano': 1999}]\n"
          ]
        }
      ]
    },
    {
      "cell_type": "code",
      "source": [
        "game = {}\n",
        "games = []\n",
        "\n",
        "for i in range(3) :\n",
        "  game['nome'] = input('Qual o nome: ')\n",
        "  game['videogame'] = input('Console: ')\n",
        "  game['ano'] = input('Qual o ano de lançamento : ')\n",
        "  games.append(game.copy()) #quando for inserir dentro de dicionario precisa usar esse comando ao inves de [:]\n",
        "\n",
        "print('-'*20)\n",
        "for e in games: #anda na lista\n",
        "  for i,j in e.items() : #anda dentro do dicionário imprimindo os 2\n",
        "    print('O campo {} tem o valor {}.'.format(i,j))"
      ],
      "metadata": {
        "colab": {
          "base_uri": "https://localhost:8080/"
        },
        "id": "h2NcZvLSWzX8",
        "outputId": "d8686d18-df46-4e36-d214-c5ec6851a335"
      },
      "execution_count": null,
      "outputs": [
        {
          "output_type": "stream",
          "name": "stdout",
          "text": [
            "Qual o nome: Mario\n",
            "Console: snes\n",
            "Qual o ano de lançamento : 1990\n",
            "Qual o nome: zelda\n",
            "Console: n64\n",
            "Qual o ano de lançamento : 1998\n",
            "Qual o nome: pokemon\n",
            "Console: gameboy\n",
            "Qual o ano de lançamento : 1999\n",
            "--------------------\n",
            "O campo nome tem o valor Mario.\n",
            "O campo videogame tem o valor snes.\n",
            "O campo ano tem o valor 1990.\n",
            "O campo nome tem o valor zelda.\n",
            "O campo videogame tem o valor n64.\n",
            "O campo ano tem o valor 1998.\n",
            "O campo nome tem o valor pokemon.\n",
            "O campo videogame tem o valor gameboy.\n",
            "O campo ano tem o valor 1999.\n"
          ]
        }
      ]
    },
    {
      "cell_type": "code",
      "source": [
        "games = {'nome': ['Super Mario','Zelda Ocarina of Time','Pokemon Yellow'],'videogame':['SNES','64','GB',],'ano':[1990,1998,1999]}\n",
        "print(games)"
      ],
      "metadata": {
        "id": "vgycNZBZaX0C"
      },
      "execution_count": null,
      "outputs": []
    },
    {
      "cell_type": "code",
      "source": [
        "games = {'nome':[],'videogame':[],'ano':[]}\n",
        "for i in range(3) >\n",
        "  nome = input('Nome do jogo: ')\n",
        "  videogame = input('Console: ')\n",
        "  ano = input('Qual o ano de lançamento: ')\n",
        "  games['nome'].append(nome)\n",
        "  games['videogame'].append(videogame)\n",
        "  games['ano'].append(ano)\n",
        "\n",
        "print('-'*20)\n",
        "print(games)"
      ],
      "metadata": {
        "id": "JjgfnDsCa6BU"
      },
      "execution_count": null,
      "outputs": []
    },
    {
      "cell_type": "code",
      "source": [
        "alunos = {'nome':[],'media':[],'situação':[]}\n",
        "somanota = 0\n",
        "nome = input('Digite o nome do aluno: ')\n",
        "alunos['nome'].append(nome)\n",
        "for c in range(3) :\n",
        "  nota = float(input('Digite a nota: '))\n",
        "  somanota +=nota\n",
        "\n",
        "media = somanota/3\n",
        "alunos['media'].append(media)\n",
        "\n",
        "if (media >= 7) :\n",
        "  alunos['situação'].append('aprovado')\n",
        "\n",
        "elif (media<7) and (media>=5) :\n",
        "  alunos['situação'].append('em exame')\n",
        "\n",
        "elif (media<5) :\n",
        "  alunos['situação'].append('reprovado')\n",
        "\n",
        "\n",
        "print('Aluno: {}'.format(alunos['nome']))\n",
        "print('Situação: {}'.format(alunos['situação']))\n",
        "print('Média: {}'.format(alunos['media']))"
      ],
      "metadata": {
        "colab": {
          "base_uri": "https://localhost:8080/"
        },
        "id": "v_otADAh6WMk",
        "outputId": "17463fb8-4198-4207-d2bf-fc5e56c6086c"
      },
      "execution_count": null,
      "outputs": [
        {
          "output_type": "stream",
          "name": "stdout",
          "text": [
            "Digite o nome do aluno: Arthur\n",
            "Digite a nota: 5.5\n",
            "Digite a nota: 8.9\n",
            "Digite a nota: 4.7\n",
            "Aluno: ['Arthur']\n",
            "Situação: ['em exame']\n",
            "Média: [6.366666666666667]\n"
          ]
        }
      ]
    },
    {
      "cell_type": "code",
      "source": [
        "loja = {'cenoura': [100, 0.99], 'brocolis': [50, 3.99], 'batata': [200, 0.49], 'cebola': [75, 1.10]}\n",
        "\n",
        "pedido = []\n",
        "while True:\n",
        "    nomeitem = input('Digite o nome do item: ')\n",
        "    qntditem = int(input('Digite a quantidade: '))\n",
        "    pedido.append([nomeitem, qntditem])\n",
        "    res = input('Deseja continuar pedindo: [s/n]')\n",
        "    if res in 'Nn':\n",
        "        break\n",
        "\n",
        "total = 0\n",
        "print('\\nVendas')\n",
        "for count in pedido:\n",
        "    produto = count[0]\n",
        "    qntd = count[1]\n",
        "    preco = loja[produto][1]\n",
        "    valorproduto = preco * qntd\n",
        "    print('{}: {} x {} = {}'.format(produto, qntd, preco, valorproduto))\n",
        "    loja[produto][0] -= qntd\n",
        "    total += valorproduto\n",
        "\n",
        "print('Custo total: {}'.format(total))\n",
        "print('\\nEstoque:')\n",
        "for produto, (quantidade, preco) in loja.items():\n",
        "    print('Descrição: ', produto)\n",
        "    print('Quantidade: ', quantidade)\n",
        "    print('Preço: {}'.format(preco))\n"
      ],
      "metadata": {
        "colab": {
          "base_uri": "https://localhost:8080/"
        },
        "id": "aZn5trXw_WDG",
        "outputId": "063037e5-d69b-4b8c-f85b-ca1ebfe97229"
      },
      "execution_count": null,
      "outputs": [
        {
          "output_type": "stream",
          "name": "stdout",
          "text": [
            "Digite o nome do item: cenoura\n",
            "Digite a quantidade: 100\n",
            "Deseja continuar pedindo: [s/n]n\n",
            "\n",
            "Vendas\n",
            "cenoura: 100 x 0.99 = 99.0\n",
            "Custo total: 99.0\n",
            "\n",
            "Estoque:\n",
            "Descrição:  cenoura\n",
            "Quantidade:  0\n",
            "Preço: 0.99\n",
            "Descrição:  brocolis\n",
            "Quantidade:  50\n",
            "Preço: 3.99\n",
            "Descrição:  batata\n",
            "Quantidade:  200\n",
            "Preço: 0.49\n",
            "Descrição:  cebola\n",
            "Quantidade:  75\n",
            "Preço: 1.1\n"
          ]
        }
      ]
    },
    {
      "cell_type": "markdown",
      "source": [
        "Um pouco sobre manipulação de strings\n"
      ],
      "metadata": {
        "id": "0KNmQQFuFZpj"
      }
    },
    {
      "cell_type": "code",
      "source": [
        "s1 = list('Algoritmos') #transformei algoritmo em uma lista\n",
        "print(s1)\n",
        "print(''.join(s1)) #join para fazer o print agrupado"
      ],
      "metadata": {
        "colab": {
          "base_uri": "https://localhost:8080/"
        },
        "id": "Vcqu9nA5FezA",
        "outputId": "af086e4b-897f-4d43-92b5-9f6bb9021b73"
      },
      "execution_count": null,
      "outputs": [
        {
          "output_type": "stream",
          "name": "stdout",
          "text": [
            "['A', 'l', 'g', 'o', 'r', 'i', 't', 'm', 'o', 's']\n",
            "Algoritmos\n"
          ]
        }
      ]
    },
    {
      "cell_type": "code",
      "source": [
        "s1 = 'Lógica de Programação e Algoritmos '\n",
        "s1.startswith('Lógica')"
      ],
      "metadata": {
        "colab": {
          "base_uri": "https://localhost:8080/"
        },
        "id": "fTm5uE_pHmnb",
        "outputId": "98ff1811-7116-46de-c402-9fd6929a23b8"
      },
      "execution_count": null,
      "outputs": [
        {
          "output_type": "execute_result",
          "data": {
            "text/plain": [
              "True"
            ]
          },
          "metadata": {},
          "execution_count": 15
        }
      ]
    },
    {
      "cell_type": "code",
      "source": [
        "s1 = ('Lógica de Programação e Algoritmos ')\n",
        "s1.endswith('algoritmos')"
      ],
      "metadata": {
        "colab": {
          "base_uri": "https://localhost:8080/"
        },
        "id": "5TCyZtP_InvT",
        "outputId": "78789c82-e160-4389-e4ad-3b02bdc429bb"
      },
      "execution_count": null,
      "outputs": [
        {
          "output_type": "execute_result",
          "data": {
            "text/plain": [
              "False"
            ]
          },
          "metadata": {},
          "execution_count": 21
        }
      ]
    },
    {
      "cell_type": "code",
      "source": [
        "s1 = ('Lógica de Programação e Algoritmos')\n",
        "s1.lower().endswith('algoritmos')"
      ],
      "metadata": {
        "colab": {
          "base_uri": "https://localhost:8080/"
        },
        "id": "C6XRZcHkJzML",
        "outputId": "cd9fa63a-75ae-47a6-fc8b-6cca3c595c70"
      },
      "execution_count": null,
      "outputs": [
        {
          "output_type": "execute_result",
          "data": {
            "text/plain": [
              "True"
            ]
          },
          "metadata": {},
          "execution_count": 25
        }
      ]
    },
    {
      "cell_type": "code",
      "source": [
        "s1 = ('Lógica de Programação e Algoritmos')\n",
        "print(s1.upper())\n",
        "print(s1.lower())"
      ],
      "metadata": {
        "colab": {
          "base_uri": "https://localhost:8080/"
        },
        "id": "xnuRJa5zKQH3",
        "outputId": "8fce93cb-4ce6-4846-8607-0196fb02ba9e"
      },
      "execution_count": null,
      "outputs": [
        {
          "output_type": "stream",
          "name": "stdout",
          "text": [
            "LÓGICA DE PROGRAMAÇÃO E ALGORITMOS\n",
            "lógica de programação e algoritmos\n"
          ]
        }
      ]
    },
    {
      "cell_type": "code",
      "source": [
        "s1 = ('Lógica de Programação e Algoritmos')\n",
        "s1.count('a')\n",
        "#s1.lower().count('a')"
      ],
      "metadata": {
        "colab": {
          "base_uri": "https://localhost:8080/"
        },
        "id": "9vxHWOLaK85t",
        "outputId": "ba18d807-9d93-45b6-ff34-8941001f805b"
      },
      "execution_count": null,
      "outputs": [
        {
          "output_type": "execute_result",
          "data": {
            "text/plain": [
              "3"
            ]
          },
          "metadata": {},
          "execution_count": 29
        }
      ]
    },
    {
      "cell_type": "code",
      "source": [
        "s1 = 'Um mafagafinho, dois mafagafinhos, três mafagafinhos...'\n",
        "s1.split(' ')"
      ],
      "metadata": {
        "colab": {
          "base_uri": "https://localhost:8080/"
        },
        "id": "CAdVbZHUcY-t",
        "outputId": "88933107-9619-49d2-df75-af0bde071c31"
      },
      "execution_count": 2,
      "outputs": [
        {
          "output_type": "execute_result",
          "data": {
            "text/plain": [
              "['Um', 'mafagafinho,', 'dois', 'mafagafinhos,', 'três', 'mafagafinhos...']"
            ]
          },
          "metadata": {},
          "execution_count": 2
        }
      ]
    },
    {
      "cell_type": "code",
      "source": [
        "s1 = 'Um mafagafinho, dois mafagafinhos, três mafagafinhos...'\n",
        "s1.replace('mafagafinho','gatinho',1) #o 1 no final representa quantas vezes eu quero que substitua (opcional)"
      ],
      "metadata": {
        "colab": {
          "base_uri": "https://localhost:8080/",
          "height": 35
        },
        "id": "mAzhPqRycm-X",
        "outputId": "56b71d98-a1ab-40c5-ebeb-45a1c40a8016"
      },
      "execution_count": 4,
      "outputs": [
        {
          "output_type": "execute_result",
          "data": {
            "text/plain": [
              "'Um gatinho, dois mafagafinhos, três mafagafinhos...'"
            ],
            "application/vnd.google.colaboratory.intrinsic+json": {
              "type": "string"
            }
          },
          "metadata": {},
          "execution_count": 4
        }
      ]
    },
    {
      "cell_type": "code",
      "source": [
        "s1 = 'Lógica de Progrmação e Algoritmos'\n",
        "s2 = '42'\n",
        "print(s1.isalnum())  #comando isalnum retorna somente letras numeros e acentos (como s1 tem espaçõs ele retorna false)\n",
        "print(s2.isalnum())\n",
        "\n",
        "\n",
        "print(s1.isalpha())   #em isalpha somente letras e acentos são aceitos\n",
        "print(s2.isalpha())"
      ],
      "metadata": {
        "colab": {
          "base_uri": "https://localhost:8080/"
        },
        "id": "WWtD6I-gdUJN",
        "outputId": "ba15f772-e98b-466d-a89e-434ef003bc6a"
      },
      "execution_count": 10,
      "outputs": [
        {
          "output_type": "stream",
          "name": "stdout",
          "text": [
            "False\n",
            "True\n",
            "False\n",
            "False\n"
          ]
        }
      ]
    },
    {
      "cell_type": "code",
      "source": [
        "x = 5\n",
        "while x <=25 :\n",
        "  print(x)\n",
        "  x += 5"
      ],
      "metadata": {
        "colab": {
          "base_uri": "https://localhost:8080/"
        },
        "id": "7fUK70B_fi2f",
        "outputId": "98ab4638-2747-4333-cb3f-1ce8c44aa4ac"
      },
      "execution_count": 14,
      "outputs": [
        {
          "output_type": "stream",
          "name": "stdout",
          "text": [
            "5\n",
            "10\n",
            "15\n",
            "20\n",
            "25\n"
          ]
        }
      ]
    }
  ]
}