{
  "nbformat": 4,
  "nbformat_minor": 0,
  "metadata": {
    "colab": {
      "provenance": [],
      "authorship_tag": "ABX9TyOTfue7TCWUSDcPpH8GRifq",
      "include_colab_link": true
    },
    "kernelspec": {
      "name": "python3",
      "display_name": "Python 3"
    },
    "language_info": {
      "name": "python"
    }
  },
  "cells": [
    {
      "cell_type": "markdown",
      "metadata": {
        "id": "view-in-github",
        "colab_type": "text"
      },
      "source": [
        "<a href=\"https://colab.research.google.com/github/Arthur-Alluure/Exerciciosfaculpython/blob/master/Aula_2_Teorica.ipynb\" target=\"_parent\"><img src=\"https://colab.research.google.com/assets/colab-badge.svg\" alt=\"Open In Colab\"/></a>"
      ]
    },
    {
      "cell_type": "markdown",
      "source": [
        "Aprendizados Aula\n"
      ],
      "metadata": {
        "id": "6B6xp9l2jXWg"
      }
    },
    {
      "cell_type": "code",
      "source": [
        "a = 5\n",
        "b = 3\n",
        "resposta = a>=b\n",
        "\n",
        "print(resposta)"
      ],
      "metadata": {
        "colab": {
          "base_uri": "https://localhost:8080/"
        },
        "id": "aBRe_tiBHiHj",
        "outputId": "4eee2980-473e-48c8-a7ce-ee95dc142385"
      },
      "execution_count": null,
      "outputs": [
        {
          "output_type": "stream",
          "name": "stdout",
          "text": [
            "True\n"
          ]
        }
      ]
    },
    {
      "cell_type": "code",
      "source": [
        "frase = 'Linguagens de programação:\\n\\t'\n",
        "frase = frase + 'Python' + '-' *5 + 'C' + '-' *5 + 'Java' + '-' *5 + 'PHP'\n",
        "\n",
        "print(frase)"
      ],
      "metadata": {
        "colab": {
          "base_uri": "https://localhost:8080/"
        },
        "id": "aP8yN8nLjiHx",
        "outputId": "7d308526-f71a-4d92-d6c7-d37042ad293b"
      },
      "execution_count": null,
      "outputs": [
        {
          "output_type": "stream",
          "name": "stdout",
          "text": [
            "Linguagens de programação:\n",
            "\tPython-----C-----Java-----PHP\n"
          ]
        }
      ]
    },
    {
      "cell_type": "code",
      "source": [
        "nota = 8.5\n",
        "s1= 'Você tirou %f na disciplina de Algortimos' %nota\n",
        "print(s1)"
      ],
      "metadata": {
        "colab": {
          "base_uri": "https://localhost:8080/"
        },
        "id": "FacWFRVd6XUS",
        "outputId": "b10db073-f7b4-4b4c-8071-6875cc61e791"
      },
      "execution_count": null,
      "outputs": [
        {
          "output_type": "stream",
          "name": "stdout",
          "text": [
            "Você tirou 8.500000 na disciplina de Algortimos\n"
          ]
        }
      ]
    },
    {
      "cell_type": "code",
      "source": [
        "nota = 8.5\n",
        "disciplina = 'Algoritmos'\n",
        "s1 = 'Você tirou %.2f na disciplina de %s' %(nota,disciplina)\n",
        "print(s1)"
      ],
      "metadata": {
        "colab": {
          "base_uri": "https://localhost:8080/"
        },
        "id": "ifWrsjilB1HM",
        "outputId": "5d766a9c-0437-4b6f-80a7-a974f12db4b1"
      },
      "execution_count": null,
      "outputs": [
        {
          "output_type": "stream",
          "name": "stdout",
          "text": [
            "Você tirou 8.50 na disciplina de Algoritmos\n"
          ]
        }
      ]
    },
    {
      "cell_type": "code",
      "source": [
        "nota = 8.5\n",
        "disciplina = 'Algoritmos'\n",
        "s1 = 'Você tirou {} na disciplina de {}' .format(nota,disciplina)\n",
        "print(s1)"
      ],
      "metadata": {
        "colab": {
          "base_uri": "https://localhost:8080/"
        },
        "id": "h2GpAiL-CYUo",
        "outputId": "6a8d0b9b-65de-4373-fcbe-5ad2c3f0b917"
      },
      "execution_count": null,
      "outputs": [
        {
          "output_type": "stream",
          "name": "stdout",
          "text": [
            "Você tirou 8.5 na disciplina de Algoritmos\n"
          ]
        }
      ]
    },
    {
      "cell_type": "code",
      "source": [
        "comida = 'Minha comida favorita é lasanha'\n",
        "nascimento = 2001\n",
        "idade = nascimento/22\n",
        "\n",
        "mensagem = '%s,%d,%.2f'%(comida,nascimento,idade)\n",
        "\n",
        "print(mensagem)\n",
        "\n"
      ],
      "metadata": {
        "colab": {
          "base_uri": "https://localhost:8080/"
        },
        "id": "fKdK5Tl6En61",
        "outputId": "97c2dce9-7b67-41ed-b167-cfb5367f4912"
      },
      "execution_count": null,
      "outputs": [
        {
          "output_type": "stream",
          "name": "stdout",
          "text": [
            "Minha comida favorita é lasanha,2001,90.95\n"
          ]
        }
      ]
    },
    {
      "cell_type": "code",
      "source": [
        "comida = 'Minha comida favorita é lasanha'\n",
        "nascimento = 2001\n",
        "idade = nascimento/22\n",
        "\n",
        "mensagem = '{}, {}, {}'.format(comida,nascimento,idade)\n",
        "\n",
        "print(mensagem)"
      ],
      "metadata": {
        "colab": {
          "base_uri": "https://localhost:8080/"
        },
        "id": "2EGvzkwBGpyH",
        "outputId": "9612eb47-7911-4d63-9f14-cceec5b13feb"
      },
      "execution_count": null,
      "outputs": [
        {
          "output_type": "stream",
          "name": "stdout",
          "text": [
            "Minha comida favorita é lasanha, 2001, 90.95454545454545\n"
          ]
        }
      ]
    },
    {
      "cell_type": "code",
      "source": [
        "s1 = 'Lógica de Programação e Algoritmos'\n",
        "\n",
        "print(s1[0:6])\n"
      ],
      "metadata": {
        "colab": {
          "base_uri": "https://localhost:8080/"
        },
        "id": "3VxbpYQCHwah",
        "outputId": "79472f53-b6d9-4a3b-9a28-454b8e6dde41"
      },
      "execution_count": null,
      "outputs": [
        {
          "output_type": "stream",
          "name": "stdout",
          "text": [
            "Lógica\n"
          ]
        }
      ]
    },
    {
      "cell_type": "code",
      "source": [
        "s1 = 'Lógica de Programação e Algoritmos'\n",
        "\n",
        "print(s1[24:34])\n"
      ],
      "metadata": {
        "colab": {
          "base_uri": "https://localhost:8080/"
        },
        "id": "6rupCmKbKnDM",
        "outputId": "cb2e9385-b4d1-4c90-e25e-91e805f86784"
      },
      "execution_count": null,
      "outputs": [
        {
          "output_type": "stream",
          "name": "stdout",
          "text": [
            "Algoritmos\n"
          ]
        }
      ]
    },
    {
      "cell_type": "code",
      "source": [
        "s1 = 'Lógica de Programação e Algoritmos'\n",
        "\n",
        "tamanho = len(s1)\n",
        "\n",
        "print(tamanho)"
      ],
      "metadata": {
        "colab": {
          "base_uri": "https://localhost:8080/"
        },
        "id": "4P8FGuMyMHR6",
        "outputId": "1d1f0651-5213-4605-8745-205c2ea9bd93"
      },
      "execution_count": null,
      "outputs": [
        {
          "output_type": "stream",
          "name": "stdout",
          "text": [
            "34\n"
          ]
        }
      ]
    },
    {
      "cell_type": "code",
      "source": [
        "nome = 'Arthur Rodrigues Moreira'\n",
        "\n",
        "tamanho=len(nome)\n",
        "\n",
        "resposta= tamanho<=15\n",
        "\n",
        "print(resposta)"
      ],
      "metadata": {
        "colab": {
          "base_uri": "https://localhost:8080/"
        },
        "id": "jTZCDj5pMO3V",
        "outputId": "5c565780-75b0-4dc6-bc99-2d8eba87e5eb"
      },
      "execution_count": null,
      "outputs": [
        {
          "output_type": "stream",
          "name": "stdout",
          "text": [
            "False\n"
          ]
        }
      ]
    },
    {
      "cell_type": "code",
      "source": [
        "idade= input('Qual sua idade? ')\n",
        "print('Você tem:',idade,'anos')"
      ],
      "metadata": {
        "colab": {
          "base_uri": "https://localhost:8080/"
        },
        "id": "mn6zSzK2qlnp",
        "outputId": "2d9ca445-940f-4d12-e5ee-d09f736317bb"
      },
      "execution_count": null,
      "outputs": [
        {
          "output_type": "stream",
          "name": "stdout",
          "text": [
            "Qual sua idade? 22\n",
            "Você tem: 22 anos\n"
          ]
        }
      ]
    },
    {
      "cell_type": "code",
      "source": [
        "nome = input('Qual seu nome? ')\n",
        "print('Olá {}, seja bem-vindo!'.format(nome))"
      ],
      "metadata": {
        "colab": {
          "base_uri": "https://localhost:8080/"
        },
        "id": "qPFPNk--u0YX",
        "outputId": "60297ef4-f116-4ff7-d1ad-e1a85abdb4a9"
      },
      "execution_count": null,
      "outputs": [
        {
          "output_type": "stream",
          "name": "stdout",
          "text": [
            "Qual seu nome? Arthur\n",
            "Olá Arthur, seja bem-vindo!\n"
          ]
        }
      ]
    },
    {
      "cell_type": "code",
      "source": [
        "nome = input('Qual seu nome: ')\n",
        "idade = input('E a sua idade: ')\n",
        "\n",
        "print('Seja bem vindo!\\n', '{}' ' {}'.format(nome,idade))"
      ],
      "metadata": {
        "colab": {
          "base_uri": "https://localhost:8080/"
        },
        "id": "dl8nBN4RtfuM",
        "outputId": "76d37549-1cde-4458-af69-d244246ec902"
      },
      "execution_count": null,
      "outputs": [
        {
          "output_type": "stream",
          "name": "stdout",
          "text": [
            "Qual seu nome: Arthur\n",
            "E a sua idade: 22 anos\n",
            "Seja bem vindo!\n",
            " Arthur 22 anos\n"
          ]
        }
      ]
    },
    {
      "cell_type": "code",
      "source": [
        "nota = float(input('Qual foi sua nota?'))\n",
        "print('Você tirou nota {}'.format(nota))"
      ],
      "metadata": {
        "colab": {
          "base_uri": "https://localhost:8080/"
        },
        "id": "qaHKCFN5xbFl",
        "outputId": "defc3fa3-ecda-4d8d-95be-ef18f98480bd"
      },
      "execution_count": null,
      "outputs": [
        {
          "output_type": "stream",
          "name": "stdout",
          "text": [
            "Qual foi sua nota?8.5\n",
            "Você tirou nota 8.5.\n"
          ]
        }
      ]
    },
    {
      "cell_type": "code",
      "source": [
        "n1 = int(input('Informe o primeiro número: '))\n",
        "n2 = int(input('Informe o segundo número: '))\n",
        "print('A soma dos números foi: ', n1+n2)"
      ],
      "metadata": {
        "colab": {
          "base_uri": "https://localhost:8080/"
        },
        "id": "GUGlzXBN17ZD",
        "outputId": "b91bfa40-21eb-481b-c855-9b014ee84771"
      },
      "execution_count": null,
      "outputs": [
        {
          "output_type": "stream",
          "name": "stdout",
          "text": [
            "Informe o primeiro número: 5\n",
            "Informe o segundo número: 3\n",
            "A soma dos números foi:  8\n"
          ]
        }
      ]
    },
    {
      "cell_type": "code",
      "source": [
        "n1 = int(input('Informe o primeiro número: '))\n",
        "n2 = int(input('Informe o segundo número: '))\n",
        "\n",
        "res= 'O resultado da soma de {} com {} é de {}'.format(n1,n2, n1+n2)\n",
        "\n",
        "print(res)"
      ],
      "metadata": {
        "colab": {
          "base_uri": "https://localhost:8080/"
        },
        "id": "TUG67zkC2rLc",
        "outputId": "3cb47573-637f-47b2-cc72-6da02a651163"
      },
      "execution_count": null,
      "outputs": [
        {
          "output_type": "stream",
          "name": "stdout",
          "text": [
            "Informe o primeiro número: 5\n",
            "Informe o segundo número: 3\n",
            "O resultado da soma de 5 com 3 é de 8\n"
          ]
        }
      ]
    },
    {
      "cell_type": "code",
      "source": [
        "n1 = int(input('Informe o primeiro número: '))\n",
        "n2 = int(input('Informe o segundo número: '))\n",
        "\n",
        "res = 'O resultado da soma de %i com %i é de %i'%(n1,n2,n1+n2)\n",
        "\n",
        "print(res)"
      ],
      "metadata": {
        "colab": {
          "base_uri": "https://localhost:8080/"
        },
        "id": "T1j8IH1I3Iib",
        "outputId": "7cc62ebd-cac9-4e4f-ffe8-98cfdcc4de84"
      },
      "execution_count": null,
      "outputs": [
        {
          "output_type": "stream",
          "name": "stdout",
          "text": [
            "Informe o primeiro número: 5\n",
            "Informe o segundo número: 3\n",
            "O resultado da soma de 5 com 3 é de 8\n"
          ]
        }
      ]
    },
    {
      "cell_type": "code",
      "source": [
        "dias = int(input('Informe quantos dias: '))\n",
        "horas = int(input('Informe quantas horas: '))\n",
        "minutos = int(input('Informe quantos minutos: '))\n",
        "segundos = int(input('Informe quantos segundos: '))\n",
        "\n",
        "calculo = segundos + (minutos*60) + (horas *60 *60) + (dias *24 *60 *60)\n",
        "frase = 'O total de segundos resultantes é de {}'.format(calculo)\n",
        "\n",
        "print(frase)"
      ],
      "metadata": {
        "colab": {
          "base_uri": "https://localhost:8080/"
        },
        "id": "u3BHfE5soOgE",
        "outputId": "021c05bc-a737-4e99-fdf2-2794fbd4adbc"
      },
      "execution_count": null,
      "outputs": [
        {
          "output_type": "stream",
          "name": "stdout",
          "text": [
            "Informe quantos dias: 5\n",
            "Informe quantas horas: 2\n",
            "Informe quantos minutos: 30\n",
            "Informe quantos segundos: 7\n",
            "O total de segundos resultantes é de 441007\n"
          ]
        }
      ]
    },
    {
      "cell_type": "code",
      "source": [
        "produto = float(input('Qual o preço do produto: '))\n",
        "desconto = float(input('Qual o percentual do desconto: '))\n",
        "\n",
        "valordesc= desconto/100*produto\n",
        "precofinal= produto-valordesc\n",
        "frase = 'O valor do desconto é de {}%, e o preço final do produto é de {}'.format(valordesc,precofinal)\n",
        "\n",
        "print(frase)"
      ],
      "metadata": {
        "colab": {
          "base_uri": "https://localhost:8080/"
        },
        "id": "aD8QC7r8rKa7",
        "outputId": "9fdda63a-cab3-4898-ea03-903ed2824498"
      },
      "execution_count": null,
      "outputs": [
        {
          "output_type": "stream",
          "name": "stdout",
          "text": [
            "Qual o preço do produto: 100\n",
            "Qual o percentual do desconto: 25\n",
            "O valor do desconto é de 25.0%, e o preço final do produto é de 75.0\n"
          ]
        }
      ]
    },
    {
      "cell_type": "code",
      "source": [
        "celsius = float(input('Informe a temperatura em Celsius: '))\n",
        "f = (9*celsius)/5 +32\n",
        "msg = 'Convertendo em Fahrenheit, a temperatura será de: {}'.format(f)\n",
        "print(msg)"
      ],
      "metadata": {
        "colab": {
          "base_uri": "https://localhost:8080/"
        },
        "id": "JW4HI05Wtezl",
        "outputId": "f9e1d6d8-49e5-4081-e154-d520bfc4cae6"
      },
      "execution_count": null,
      "outputs": [
        {
          "output_type": "stream",
          "name": "stdout",
          "text": [
            "Informe a temperatura em Celsius: 16\n",
            "Convertendo em Fahrenheit, a temperatura será de: 60.8\n"
          ]
        }
      ]
    }
  ]
}