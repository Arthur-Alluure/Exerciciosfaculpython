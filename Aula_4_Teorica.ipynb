{
  "nbformat": 4,
  "nbformat_minor": 0,
  "metadata": {
    "colab": {
      "provenance": [],
      "authorship_tag": "ABX9TyOi41ETKb4sQbOMrBkkUrs8",
      "include_colab_link": true
    },
    "kernelspec": {
      "name": "python3",
      "display_name": "Python 3"
    },
    "language_info": {
      "name": "python"
    }
  },
  "cells": [
    {
      "cell_type": "markdown",
      "metadata": {
        "id": "view-in-github",
        "colab_type": "text"
      },
      "source": [
        "<a href=\"https://colab.research.google.com/github/Arthur-Alluure/Exerciciosfaculpython/blob/Atualizada/Aula_4_Teorica.ipynb\" target=\"_parent\"><img src=\"https://colab.research.google.com/assets/colab-badge.svg\" alt=\"Open In Colab\"/></a>"
      ]
    },
    {
      "cell_type": "code",
      "execution_count": null,
      "metadata": {
        "id": "8GtTdeOnrrn2",
        "colab": {
          "base_uri": "https://localhost:8080/"
        },
        "outputId": "7c771304-5d00-4289-814d-8a5f2d217474"
      },
      "outputs": [
        {
          "output_type": "stream",
          "name": "stdout",
          "text": [
            "1\n",
            "2\n",
            "3\n",
            "4\n",
            "5\n",
            "Fim da contagem\n"
          ]
        }
      ],
      "source": [
        "x = 1\n",
        "\n",
        "while (x<=5) :\n",
        "  print(x)\n",
        "  x = x+1\n",
        "print('Fim da contagem')"
      ]
    },
    {
      "cell_type": "code",
      "source": [
        "count = 0\n",
        "\n",
        "while (count<=99) :\n",
        "  print(count)\n",
        "  count=count+1"
      ],
      "metadata": {
        "id": "68BKgpkL2zuC"
      },
      "execution_count": null,
      "outputs": []
    },
    {
      "cell_type": "code",
      "source": [
        "x = 10\n",
        "while (x<=1000) :\n",
        "  print(x)\n",
        "  x= x+1"
      ],
      "metadata": {
        "id": "orgy9lSy35by"
      },
      "execution_count": null,
      "outputs": []
    },
    {
      "cell_type": "code",
      "source": [
        "c = 10\n",
        "\n",
        "while(c>=0) :\n",
        "  print('Contagem regressiva: {}'.format(c))\n",
        "  c = c-1\n",
        "\n",
        "print('FOGO')"
      ],
      "metadata": {
        "colab": {
          "base_uri": "https://localhost:8080/"
        },
        "id": "9jKGamVy4WWc",
        "outputId": "a3b9d673-a9f4-401e-e9e9-ff94cee331ea"
      },
      "execution_count": null,
      "outputs": [
        {
          "output_type": "stream",
          "name": "stdout",
          "text": [
            "Contagem regressiva: 10\n",
            "Contagem regressiva: 9\n",
            "Contagem regressiva: 8\n",
            "Contagem regressiva: 7\n",
            "Contagem regressiva: 6\n",
            "Contagem regressiva: 5\n",
            "Contagem regressiva: 4\n",
            "Contagem regressiva: 3\n",
            "Contagem regressiva: 2\n",
            "Contagem regressiva: 1\n",
            "Contagem regressiva: 0\n",
            "FOGO\n"
          ]
        }
      ]
    },
    {
      "cell_type": "code",
      "source": [
        "inicial = int(input('Deseja começar a contagem com qual número: '))\n",
        "final = int(input('Deseja encerrar a contagem em qual número: '))\n",
        "\n",
        "count = inicial\n",
        "\n",
        "while (count<=final) :\n",
        "  print(count)\n",
        "  count = count+1"
      ],
      "metadata": {
        "id": "NYHZyLQQ4tY5"
      },
      "execution_count": null,
      "outputs": []
    },
    {
      "cell_type": "code",
      "source": [
        "inicial = int(input('Deseja começar a contagem com qual número: '))\n",
        "final = int(input('Deseja encerrar a contagem em qual número: '))\n",
        "\n",
        "count = inicial\n",
        "\n",
        "if (count<final) :\n",
        "\n",
        "  while (count<=final) :\n",
        "    print(count)\n",
        "    count = count+1\n",
        "\n",
        "else:\n",
        "  while (count>=final):\n",
        "    print(count)\n",
        "    count = count-1"
      ],
      "metadata": {
        "colab": {
          "base_uri": "https://localhost:8080/"
        },
        "id": "v3MSKJSr6RpK",
        "outputId": "24718a25-2c3e-442b-8bdd-cff3f85c764b"
      },
      "execution_count": null,
      "outputs": [
        {
          "output_type": "stream",
          "name": "stdout",
          "text": [
            "Deseja começar a contagem com qual número: 10\n",
            "Deseja encerrar a contagem em qual número: 1\n",
            "10\n",
            "9\n",
            "8\n",
            "7\n",
            "6\n",
            "5\n",
            "4\n",
            "3\n",
            "2\n",
            "1\n"
          ]
        }
      ]
    },
    {
      "cell_type": "code",
      "source": [
        "inicial = int(input('Deseja começar a contagem com qual número: '))\n",
        "final = int(input('Deseja encerrar a contagem em qual número: '))\n",
        "\n",
        "count = inicial\n",
        "\n",
        "while (count<=final) :\n",
        "  count = count+1\n",
        "  if (count%2==0) :\n",
        "    print(count)"
      ],
      "metadata": {
        "colab": {
          "base_uri": "https://localhost:8080/"
        },
        "id": "QH7L6rdP7Dw5",
        "outputId": "60dbe936-f891-4681-c7f8-ce74c4c0fc33"
      },
      "execution_count": null,
      "outputs": [
        {
          "output_type": "stream",
          "name": "stdout",
          "text": [
            "Deseja começar a contagem com qual número: 1\n",
            "Deseja encerrar a contagem em qual número: 10\n",
            "2\n",
            "4\n",
            "6\n",
            "8\n",
            "10\n"
          ]
        }
      ]
    },
    {
      "cell_type": "code",
      "source": [
        "count = 0\n",
        "while (count<=10) :\n",
        "  if(count%3==0) :\n",
        "    print(count)\n",
        "  count = count +1"
      ],
      "metadata": {
        "colab": {
          "base_uri": "https://localhost:8080/"
        },
        "id": "CWd_jJ6P8kxt",
        "outputId": "0f3957f4-33be-48f6-a711-84a5c4f29cab"
      },
      "execution_count": null,
      "outputs": [
        {
          "output_type": "stream",
          "name": "stdout",
          "text": [
            "0\n",
            "3\n",
            "6\n",
            "9\n"
          ]
        }
      ]
    },
    {
      "cell_type": "code",
      "source": [
        "numero = int(input('De qual número você quer saber a taboada: '))\n",
        "\n",
        "count = 0\n",
        "while(count<10) :\n",
        "  count = count+1\n",
        "  taboada = numero*count\n",
        "  print('{} * {} = {}'.format(numero,count,taboada))\n"
      ],
      "metadata": {
        "colab": {
          "base_uri": "https://localhost:8080/"
        },
        "id": "3KrEhvcI-Sfy",
        "outputId": "46b0fad7-bf5d-4e30-fddb-479c0f453be4"
      },
      "execution_count": null,
      "outputs": [
        {
          "output_type": "stream",
          "name": "stdout",
          "text": [
            "De qual número você quer saber a taboada: 8\n",
            "8 * 1 = 8\n",
            "8 * 2 = 16\n",
            "8 * 3 = 24\n",
            "8 * 4 = 32\n",
            "8 * 5 = 40\n",
            "8 * 6 = 48\n",
            "8 * 7 = 56\n",
            "8 * 8 = 64\n",
            "8 * 9 = 72\n",
            "8 * 10 = 80\n"
          ]
        }
      ]
    },
    {
      "cell_type": "code",
      "source": [
        "soma = 0\n",
        "count = 1\n",
        "while (count<=5) :\n",
        "  numero = int(input('Digite o {}º número: '.format(count)))\n",
        "  count = count + 1\n",
        "  soma = soma + numero\n",
        "\n",
        "print('O valor da soma foi: {}'.format(soma))"
      ],
      "metadata": {
        "colab": {
          "base_uri": "https://localhost:8080/"
        },
        "id": "V5TMrTx6BzuU",
        "outputId": "49381ec8-54c8-4e78-aad6-227ad85a5349"
      },
      "execution_count": null,
      "outputs": [
        {
          "output_type": "stream",
          "name": "stdout",
          "text": [
            "Digite o 1º número: 5\n",
            "Digite o 2º número: 2\n",
            "Digite o 3º número: 8\n",
            "Digite o 4º número: 10\n",
            "Digite o 5º número: 100\n",
            "O valor da soma foi: 125\n"
          ]
        }
      ]
    },
    {
      "cell_type": "code",
      "source": [
        "count = 1\n",
        "somanota = 0\n",
        "while (count<=5) :\n",
        "  notas = float(input('Digite a {}º nota: '.format(count)))\n",
        "  count = count + 1\n",
        "  somanota = somanota+notas\n",
        "media = somanota/5\n",
        "print('Sua media final foi de {}'.format(media))"
      ],
      "metadata": {
        "colab": {
          "base_uri": "https://localhost:8080/"
        },
        "id": "hpRniGm8gvBI",
        "outputId": "b6cea78f-6a7e-46ed-82b8-b0f74893e01e"
      },
      "execution_count": null,
      "outputs": [
        {
          "output_type": "stream",
          "name": "stdout",
          "text": [
            "Digite a 1º nota: 8.9\n",
            "Digite a 2º nota: 7\n",
            "Digite a 3º nota: 4.1\n",
            "Digite a 4º nota: 6.8\n",
            "Digite a 5º nota: 9\n",
            "Sua media final foi de 7.159999999999999\n"
          ]
        }
      ]
    },
    {
      "cell_type": "code",
      "source": [
        "valor1 = int(input('Digite um valor: '))\n",
        "valor2 = int(input('Digite outro valor: '))\n",
        "cont = 1\n",
        "multi = 0\n",
        "while (cont<=valor1) :\n",
        "  multi = multi + valor2\n",
        "  cont = cont + 1\n",
        "print(multi)\n",
        "\n"
      ],
      "metadata": {
        "colab": {
          "base_uri": "https://localhost:8080/"
        },
        "id": "6wB1Zf3Gi8g5",
        "outputId": "d121472e-ec3d-4a39-dc53-fa4360e7e9e4"
      },
      "execution_count": null,
      "outputs": [
        {
          "output_type": "stream",
          "name": "stdout",
          "text": [
            "Digite um valor: 5\n",
            "Digite outro valor: 6\n",
            "1\n",
            "2\n",
            "3\n",
            "4\n",
            "5\n",
            "30\n"
          ]
        }
      ]
    },
    {
      "cell_type": "code",
      "source": [
        "inicial = float(input('Valor inicial: '))\n",
        "final = float(input('Valor final: '))\n",
        "count = inicial-1\n",
        "\n",
        "par = 0\n",
        "impar = 0\n",
        "somamedia = 0\n",
        "positivos = 0\n",
        "\n",
        "while (count<final) :\n",
        "  count=count+1\n",
        "  if (count%2==0) and (count>=0) :\n",
        "    positivos = positivos+1\n",
        "    par = par+1\n",
        "  elif (count%2!=0) and (count>=0) :\n",
        "    positivos = positivos+1\n",
        "    impar = impar+1\n",
        "  somamedia = somamedia+count\n",
        "\n",
        "media = somamedia/count\n",
        "\n",
        "print('Números inteiros: {}'.format(positivos))\n",
        "print('Números pares: {}'.format(par))\n",
        "print('Números impares: {}'.format(impar))\n",
        "print('Media: {}'.format(media))\n"
      ],
      "metadata": {
        "colab": {
          "base_uri": "https://localhost:8080/"
        },
        "id": "HXjwfjTonXrm",
        "outputId": "854fec6d-658f-4b6a-d1d2-d646f67cdc8d"
      },
      "execution_count": null,
      "outputs": [
        {
          "output_type": "stream",
          "name": "stdout",
          "text": [
            "Valor inicial: 40\n",
            "Valor final: 100\n",
            "Números inteiros: 61\n",
            "Números pares: 31\n",
            "Números impares: 30\n",
            "Media: 42.7\n"
          ]
        }
      ]
    },
    {
      "cell_type": "code",
      "source": [
        "inicio = int(input('Digite um valor inicial: '))\n",
        "fim = int(input('Digite o valor final: '))\n",
        "\n",
        "positivos = 0\n",
        "par = 0\n",
        "impar = 0\n",
        "somapositivo = 0\n",
        "somapar = 0\n",
        "somaimpar = 0\n",
        "cont = inicio\n",
        "\n",
        "if inicio < fim:\n",
        "    while cont <= fim:\n",
        "        if cont > 0:\n",
        "            positivos = positivos + 1\n",
        "            somapositivo = somapositivo + cont\n",
        "        if cont % 2 == 0:\n",
        "            par = par + 1\n",
        "            somapar = somapar + cont\n",
        "        else:\n",
        "            impar = impar + 1\n",
        "            somaimpar = somaimpar + cont\n",
        "        cont = cont + 1\n",
        "\n",
        "    mediapositivo = somapositivo / positivos\n",
        "    mediapar = somapar / par\n",
        "    mediaimpar = somaimpar / impar\n",
        "    print('Números positivos: {}'.format(positivos))\n",
        "    print('Media positivo: {}'.format(mediapositivo))\n",
        "    print('Números pares: {}'.format(par))\n",
        "    print('Media par: {}'.format(mediapar))\n",
        "    print('Números impares: {}'.format(impar))\n",
        "    print('Media impar: {}'.format(mediaimpar))\n",
        "else:\n",
        "    print('Valor inicial maior que o final')"
      ],
      "metadata": {
        "colab": {
          "base_uri": "https://localhost:8080/"
        },
        "id": "uvaAzkm2rzXN",
        "outputId": "a959d8f2-62c8-4c51-e9af-5bd21a8f35b4"
      },
      "execution_count": null,
      "outputs": [
        {
          "output_type": "stream",
          "name": "stdout",
          "text": [
            "Digite um valor inicial: 10\n",
            "Digite o valor final: 5\n",
            "Valor inicial maior que o final\n"
          ]
        }
      ]
    },
    {
      "cell_type": "code",
      "source": [
        "#validando a entrada do usuario\n",
        "\n",
        "x = int(input('Digite um valor maior que zero: ')) #comeco pedindo o valor\n",
        "\n",
        "while (x<=0) : #vamos para a estrutura de repetição, e enquanto o valor for menor ou igual a zero o usuario fica preso no loop\n",
        "  x = int(input('Digite um valor maior que zero: '))\n",
        "print('Você digitou {}. Encerrando o programa...'.format(x))"
      ],
      "metadata": {
        "colab": {
          "base_uri": "https://localhost:8080/"
        },
        "id": "DnjgXKFmBI_c",
        "outputId": "9f3bed7a-d71c-4291-8731-c9d00c5da253"
      },
      "execution_count": null,
      "outputs": [
        {
          "output_type": "stream",
          "name": "stdout",
          "text": [
            "Digite um valor maior que zero: -8\n",
            "Digite um valor maior que zero: 0\n",
            "Digite um valor maior que zero: 1\n",
            "Você digitou 1. Encerrando o programa...\n"
          ]
        }
      ]
    },
    {
      "cell_type": "code",
      "source": [
        "print('Digite uma mensagem que irei repetir para você: ')\n",
        "print('Escreva \"sair\" para encerrar o programa')\n",
        "texto = input('')\n",
        "while (texto!='sair') :\n",
        "  print(texto)\n",
        "  texto = input('')\n",
        "print('Encerrando o programa')"
      ],
      "metadata": {
        "colab": {
          "base_uri": "https://localhost:8080/"
        },
        "id": "v62KP5O9Coo8",
        "outputId": "31037204-b6e2-4b6d-ae61-0dec7a376ad6"
      },
      "execution_count": null,
      "outputs": [
        {
          "output_type": "stream",
          "name": "stdout",
          "text": [
            "Digite uma mensagem que irei repetir para você: \n",
            "Escreva \"sair\" para encerrar o programa\n",
            "arthur\n",
            "arthur\n",
            "oi\n",
            "oi\n",
            "saiu\n",
            "saiu\n",
            "saiii\n",
            "saiii\n",
            "sair\n",
            "Encerrando o programa\n"
          ]
        }
      ]
    },
    {
      "cell_type": "code",
      "source": [
        "print('Digite uma mensagem que irei repetir para você: ')\n",
        "print('Para encerrar escreva \"sair\".')\n",
        "while True : #quando usamos o while true é para o laço ficar se repetindo indefinidamente(loop infinito), e utilizamos o break para quebrar o loop\n",
        "  texto = input('')\n",
        "  print(texto)\n",
        "  if texto == 'sair':\n",
        "    break #break dentro da condicional if\n",
        "print('Encerrando o programa')"
      ],
      "metadata": {
        "colab": {
          "base_uri": "https://localhost:8080/"
        },
        "id": "8b4xH_YiEDAp",
        "outputId": "4193af01-3ffd-49c2-fbf9-facbb409ad6c"
      },
      "execution_count": null,
      "outputs": [
        {
          "output_type": "stream",
          "name": "stdout",
          "text": [
            "Digite uma mensagem que irei repetir para você: \n",
            "Para encerrar escreva \"sair\".\n",
            "sai\n",
            "sai\n",
            "sair\n",
            "sair\n",
            "Encerrando o programa\n"
          ]
        }
      ]
    },
    {
      "cell_type": "code",
      "source": [
        "  while True:                                      #começamos criando o loop infinito\n",
        "    nome = input('Qual o seu nome')                 #vamos pedir o nome\n",
        "    if (nome!='Lenhadorzinho') :\n",
        "      continue                               #utilizamos a função continue dentro da condicional if para enquanto o nome for diferente de lenhadorzinho o algoritmo recomece do inicio\n",
        "    senha = input('Qual sua senha: ')         #caso o nome seja o correto caimos na variavel senha identada dentro da while e fora da 1 if, que vai pedir a senha\n",
        "    if (senha=='Uninter') :                     #se a senha nao for uninter, o laõ recomeça\n",
        "      break                                      #caso a senha seja Uninter o laço quebra e vai pro print final\n",
        "print('Acesso concedido')\n",
        "\n",
        "#importante deixar o ultimo print fora da identacao do while para nao ficar se repetindo"
      ],
      "metadata": {
        "colab": {
          "base_uri": "https://localhost:8080/"
        },
        "id": "GMx_haFzGURn",
        "outputId": "b2df097a-d728-4dbe-dea5-5c509458a2e3"
      },
      "execution_count": null,
      "outputs": [
        {
          "output_type": "stream",
          "name": "stdout",
          "text": [
            "Qual o seu nomearthur\n",
            "Qual o seu nomeLenhadorzinho\n",
            "Qual sua senha: 1233\n",
            "Qual o seu nomeLenhadorzinho\n",
            "Qual sua senha: Uninter\n",
            "Acesso concedido\n"
          ]
        }
      ]
    },
    {
      "cell_type": "code",
      "source": [
        "nome = ''                                                  #estou atribuindo a variavel nome uma string vazia (ou seja, Falsey)\n",
        "while not nome:                                            #usando a while not nome: eu crio uma while true (loop infinito), pois minha variavel nome começa false e a função not nega ela transformando em true\n",
        "  nome = input('Digite seu nome: ')                        #quando eu digitar um nome a variavel nome não esta mais vazia, e o laço é quebrado pois eu usei o not ali em cima, então a variavel nome ganha um valor, passa de false para true, e quando voltar para a while ela vai negar o true e passar para false, quebrando assim o laço\n",
        "valor = int(input('Digite um número qualquer: '))\n",
        "if valor:                                                #pode usar apenas o nome da variavel na condicional if e else, então if valor ele vai considerar o if e o valor (numero que estiver nele) e qualquer numero diferente de 0 e tratado como truthy/true\n",
        "  print('Você digitou um valor diferente de zero')       #entao se meu if for verdadeiro (digitei um numero diferente de 0) ele cai nesse primeiro print\n",
        "else:\n",
        "  print('Você digitou zero.')                            #se caso meu valor for falso (ou seja, 0 ) ele faz o print do else"
      ],
      "metadata": {
        "colab": {
          "base_uri": "https://localhost:8080/"
        },
        "id": "lG0UWCUhM5R7",
        "outputId": "20b13228-f0fc-46df-81f6-b348014ed178"
      },
      "execution_count": null,
      "outputs": [
        {
          "output_type": "stream",
          "name": "stdout",
          "text": [
            "Digite seu nome: arthur\n",
            "Digite um número qualquer: 1\n",
            "Você digitou um valor diferente de zero\n"
          ]
        }
      ]
    },
    {
      "cell_type": "code",
      "source": [
        "soma = 0\n",
        "qntdnum = 0\n",
        "valor = 0\n",
        "media = 0\n",
        "while True:\n",
        "  valor = int(input('Digite um valor inteiro: '))\n",
        "  if valor<0:\n",
        "    continue        #o continue não continua o código, e sim retorna o mesmo pro inicio, ou seja, se eu digitar um valor menor que 0 ele volta a repetição pro inicio e não da prosseguimento a soma das variaveis em baixo\n",
        "  if not valor :\n",
        "    break\n",
        "  soma += valor\n",
        "  qntdnum += 1\n",
        "  media = soma/qntdnum\n",
        "print('A média dos valores digitados é: {}'.format(media))"
      ],
      "metadata": {
        "colab": {
          "base_uri": "https://localhost:8080/"
        },
        "id": "3LBnBKXrmdJ6",
        "outputId": "d66c88b4-e6b8-4fb2-99b8-e0666a4b78cb"
      },
      "execution_count": null,
      "outputs": [
        {
          "output_type": "stream",
          "name": "stdout",
          "text": [
            "Digite um valor inteiro: 5\n",
            "A média dos valores digitados é: 0\n"
          ]
        }
      ]
    },
    {
      "cell_type": "code",
      "source": [
        "for c in range (6) :\n",
        "  print(c)"
      ],
      "metadata": {
        "colab": {
          "base_uri": "https://localhost:8080/"
        },
        "id": "Y52-GCJQu1eO",
        "outputId": "042fc94e-f7fe-490c-f9e9-373056540ad0"
      },
      "execution_count": null,
      "outputs": [
        {
          "output_type": "stream",
          "name": "stdout",
          "text": [
            "0\n",
            "1\n",
            "2\n",
            "3\n",
            "4\n",
            "5\n"
          ]
        }
      ]
    },
    {
      "cell_type": "code",
      "source": [
        "for c in range (1,6,1) :\n",
        "  print(c)"
      ],
      "metadata": {
        "colab": {
          "base_uri": "https://localhost:8080/"
        },
        "id": "492psKmKu9w7",
        "outputId": "328558a9-ab1f-4c8a-ddf0-f4f2702081df"
      },
      "execution_count": null,
      "outputs": [
        {
          "output_type": "stream",
          "name": "stdout",
          "text": [
            "1\n",
            "2\n",
            "3\n",
            "4\n",
            "5\n"
          ]
        }
      ]
    },
    {
      "cell_type": "code",
      "source": [
        "for c in range (10,0,-2) :\n",
        "  print(c)"
      ],
      "metadata": {
        "colab": {
          "base_uri": "https://localhost:8080/"
        },
        "id": "N94Np_Rovlwf",
        "outputId": "4eecf98a-981f-492e-e4fa-d608dbc25acc"
      },
      "execution_count": null,
      "outputs": [
        {
          "output_type": "stream",
          "name": "stdout",
          "text": [
            "10\n",
            "8\n",
            "6\n",
            "4\n",
            "2\n"
          ]
        }
      ]
    },
    {
      "cell_type": "code",
      "source": [
        "for c in range(10,-1,-1) :\n",
        "  print('Contagem regressiva: {}'.format(c))\n",
        "print('FOGO')"
      ],
      "metadata": {
        "colab": {
          "base_uri": "https://localhost:8080/"
        },
        "id": "e1pKQ75bv7bj",
        "outputId": "bbba780c-f5a5-4bec-e63d-567c95dbd006"
      },
      "execution_count": null,
      "outputs": [
        {
          "output_type": "stream",
          "name": "stdout",
          "text": [
            "Contagem regressiva: 10\n",
            "Contagem regressiva: 9\n",
            "Contagem regressiva: 8\n",
            "Contagem regressiva: 7\n",
            "Contagem regressiva: 6\n",
            "Contagem regressiva: 5\n",
            "Contagem regressiva: 4\n",
            "Contagem regressiva: 3\n",
            "Contagem regressiva: 2\n",
            "Contagem regressiva: 1\n",
            "Contagem regressiva: 0\n",
            "FOGO\n"
          ]
        }
      ]
    },
    {
      "cell_type": "code",
      "source": [
        "par = 0\n",
        "media = 0\n",
        "for c in range(1,101) :\n",
        "  if(c%2==0) :\n",
        "    par += c\n",
        "    media += 1\n",
        "\n",
        "mediapar = par/media\n",
        "print('Média dos números pares: {}'.format(mediapar))"
      ],
      "metadata": {
        "colab": {
          "base_uri": "https://localhost:8080/"
        },
        "id": "f_DdP17yxRBo",
        "outputId": "2f97884a-04c0-42b1-cfc7-734491ae9887"
      },
      "execution_count": null,
      "outputs": [
        {
          "output_type": "stream",
          "name": "stdout",
          "text": [
            "Média dos números pares: 51.0\n"
          ]
        }
      ]
    },
    {
      "cell_type": "code",
      "source": [
        "numtaboada = int(input('De qual número você quer saber a taboada : '))\n",
        "user = int(input('Até qual parte da taboada : '))\n",
        "\n",
        "for c in range(1,user+1) :\n",
        "  resultado = numtaboada*c\n",
        "  print('{} * {} = {}'.format(numtaboada,c,resultado))"
      ],
      "metadata": {
        "colab": {
          "base_uri": "https://localhost:8080/"
        },
        "id": "udV7pDdFz8Ch",
        "outputId": "4a76b6ac-cc4f-4428-9f3d-f098b6b8612b"
      },
      "execution_count": null,
      "outputs": [
        {
          "output_type": "stream",
          "name": "stdout",
          "text": [
            "De qual número você quer saber a taboada : 9\n",
            "Até qual parte da taboada : 5\n",
            "9 * 1 = 9\n",
            "9 * 2 = 18\n",
            "9 * 3 = 27\n",
            "9 * 4 = 36\n",
            "9 * 5 = 45\n"
          ]
        }
      ]
    },
    {
      "cell_type": "code",
      "source": [
        "taboada = 1\n",
        "while taboada <= 10:\n",
        "  print('Taboada do {}: '.format(taboada))\n",
        "  count = 1\n",
        "  while count <=10 :\n",
        "    print('{} * {} = {}'.format(taboada,count,taboada*count))\n",
        "    count += 1\n",
        "  taboada += 1\n"
      ],
      "metadata": {
        "id": "VQcu1CdD4TEG"
      },
      "execution_count": null,
      "outputs": []
    },
    {
      "cell_type": "code",
      "source": [
        "for taboada in range(1,11) :\n",
        "  print('Taboada do {}:'.format(taboada))\n",
        "  for count in range(1,11) :\n",
        "    print('{} * {} = {}'.format(taboada,count,taboada*count))"
      ],
      "metadata": {
        "id": "YxEA5K5D7YUh"
      },
      "execution_count": null,
      "outputs": []
    },
    {
      "cell_type": "code",
      "source": [
        "taboada = 1\n",
        "while taboada <= 10:\n",
        "  print('Taboada do {}:'.format(taboada))\n",
        "  for c in range (1,11) :\n",
        "    print('{} * {} = {}'.format(taboada,c,taboada*c))\n",
        "  taboada +=1"
      ],
      "metadata": {
        "id": "A6d-GY3I72xa"
      },
      "execution_count": null,
      "outputs": []
    },
    {
      "cell_type": "code",
      "source": [
        "idade = int(input('Qual sua idade: '))\n",
        "while(idade>=0) :\n",
        "    sexo = input('Qual seu sexo: [M] OU [F]  ')\n",
        "    if (sexo=='M'):\n",
        "      print('Boa noite, Senhor! Sua idade é {}'.format(idade))\n",
        "    elif (sexo=='F') :\n",
        "      print('Boa noite, Senhora! Sua idade é {}'.format(idade))\n",
        "    idade = int(input('Qual sua idade: '))\n",
        "print('Idade Inválida!')\n",
        "\n",
        "\n"
      ],
      "metadata": {
        "colab": {
          "base_uri": "https://localhost:8080/"
        },
        "id": "J2M5LJEG80uu",
        "outputId": "203b3988-d991-4ff9-c81d-ae3e25897d18"
      },
      "execution_count": null,
      "outputs": [
        {
          "output_type": "stream",
          "name": "stdout",
          "text": [
            "Qual sua idade: 18\n",
            "Qual seu sexo: [M] OU [F]  F\n",
            "Boa noite, Senhora! Sua idade é 18\n",
            "Qual sua idade: -1\n",
            "Idade Inválida!\n"
          ]
        }
      ]
    },
    {
      "cell_type": "code",
      "source": [
        "print('Primos de 2 até 99:')\n",
        "for numero in range(2,100) :\n",
        "  flag = 0\n",
        "  for i in range(2,numero) :\n",
        "    if(numero%i==0):\n",
        "      flag = 1\n",
        "      break\n",
        "  if(not flag) :\n",
        "    print(numero)\n",
        "\n"
      ],
      "metadata": {
        "colab": {
          "base_uri": "https://localhost:8080/"
        },
        "id": "nMRDHB6oEUB8",
        "outputId": "68e7d1f8-258a-4ac8-a49b-79ef3eff57f4"
      },
      "execution_count": null,
      "outputs": [
        {
          "output_type": "stream",
          "name": "stdout",
          "text": [
            "Primos de 2 até 99:\n",
            "2\n",
            "3\n",
            "5\n",
            "7\n",
            "11\n",
            "13\n",
            "17\n",
            "19\n",
            "23\n",
            "29\n",
            "31\n",
            "37\n",
            "41\n",
            "43\n",
            "47\n",
            "53\n",
            "59\n",
            "61\n",
            "67\n",
            "71\n",
            "73\n",
            "79\n",
            "83\n",
            "89\n",
            "97\n"
          ]
        }
      ]
    },
    {
      "cell_type": "code",
      "source": [
        "frase = input('Digite uma frase: ')\n",
        "tamanho = len(frase)\n",
        "while (tamanho<10) or (tamanho > 30) :\n",
        "  frase = input('Digite uma frase: ')\n",
        "  tamanho = len(frase)\n",
        "print('Com espaços: {}'.format(frase))\n",
        "print('Sem espaços: ',end=\"\")\n",
        "for i in range(0,tamanho,1) :\n",
        "  if(frase[i]!= ' '):\n",
        "    print(frase[i], end=\"\")"
      ],
      "metadata": {
        "colab": {
          "base_uri": "https://localhost:8080/"
        },
        "id": "M-KMNhtwORMC",
        "outputId": "23f4ada8-824f-4e7a-fe72-9fa5e7e45681"
      },
      "execution_count": 1,
      "outputs": [
        {
          "output_type": "stream",
          "name": "stdout",
          "text": [
            "Digite uma frase: teste\n",
            "Digite uma frase: teste muito\n",
            "Com espaços: teste muito\n",
            "Sem espaços: testemuito"
          ]
        }
      ]
    }
  ]
}